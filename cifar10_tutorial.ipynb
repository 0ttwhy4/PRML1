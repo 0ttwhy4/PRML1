{
 "cells": [
  {
   "cell_type": "markdown",
   "metadata": {
    "colab_type": "text",
    "id": "view-in-github"
   },
   "source": [
    "<a href=\"https://colab.research.google.com/github/nzl-thu/PRMLTA/blob/main/cifar10_tutorial.ipynb\" target=\"_parent\"><img src=\"https://colab.research.google.com/assets/colab-badge.svg\" alt=\"Open In Colab\"/></a>"
   ]
  },
  {
   "cell_type": "code",
   "execution_count": 1,
   "metadata": {
    "id": "pkYfIMiQgm0g",
    "pycharm": {
     "name": "#%%\n"
    }
   },
   "outputs": [],
   "source": [
    "# For tips on running notebooks in Google Colab, see\n",
    "# https://pytorch.org/tutorials/beginner/colab\n",
    "%matplotlib inline\n",
    "from matplotlib import pyplot as plt"
   ]
  },
  {
   "cell_type": "markdown",
   "metadata": {
    "collapsed": false,
    "id": "rZkONWgngm0h",
    "jupyter": {
     "outputs_hidden": false
    },
    "pycharm": {
     "name": "#%% md\n"
    }
   },
   "source": [
    "\n",
    "# Tensors\n",
    "\n",
    "Tensors are a specialized data structure that are very similar to arrays\n",
    "and matrices. In PyTorch, we use tensors to encode the inputs and\n",
    "outputs of a model, as well as the model’s parameters.\n",
    "\n",
    "Tensors are similar to NumPy’s ndarrays, except that tensors can run on\n",
    "GPUs or other specialized hardware to accelerate computing. If you’re familiar with ndarrays, you’ll\n",
    "be right at home with the Tensor API. If not, follow along in this quick\n",
    "API walkthrough.\n"
   ]
  },
  {
   "cell_type": "code",
   "execution_count": 2,
   "metadata": {
    "id": "9Bq36Hqfgm0h",
    "pycharm": {
     "name": "#%%\n"
    }
   },
   "outputs": [],
   "source": [
    "import torch\n",
    "import numpy as np"
   ]
  },
  {
   "cell_type": "markdown",
   "metadata": {
    "collapsed": false,
    "id": "wWIJTkAsgm0h",
    "jupyter": {
     "outputs_hidden": false
    },
    "pycharm": {
     "name": "#%% md\n"
    }
   },
   "source": [
    "## Tensor Initialization\n",
    "\n",
    "Tensors can be initialized in various ways. Take a look at the following examples:\n",
    "\n",
    "**Directly from data**\n",
    "\n",
    "Tensors can be created directly from data. The data type is automatically inferred.\n",
    "\n"
   ]
  },
  {
   "cell_type": "code",
   "execution_count": 3,
   "metadata": {
    "id": "ke9VkyTKgm0h",
    "pycharm": {
     "name": "#%%\n"
    }
   },
   "outputs": [],
   "source": [
    "data = [[1, 2], [3, 4]]\n",
    "x_data = torch.tensor(data)"
   ]
  },
  {
   "cell_type": "markdown",
   "metadata": {
    "collapsed": false,
    "id": "91gvRAiOgm0h",
    "jupyter": {
     "outputs_hidden": false
    },
    "pycharm": {
     "name": "#%% md\n"
    }
   },
   "source": [
    "**From a NumPy array**\n",
    "\n",
    "Tensors can be created from NumPy arrays (and vice versa - see `bridge-to-np-label`).\n",
    "\n"
   ]
  },
  {
   "cell_type": "code",
   "execution_count": 4,
   "metadata": {
    "id": "w_XutxCmgm0i",
    "pycharm": {
     "name": "#%%\n"
    }
   },
   "outputs": [],
   "source": [
    "np_array = np.array(data)\n",
    "x_np = torch.from_numpy(np_array)"
   ]
  },
  {
   "cell_type": "markdown",
   "metadata": {
    "collapsed": false,
    "id": "nfVKHBTjgm0i",
    "jupyter": {
     "outputs_hidden": false
    },
    "pycharm": {
     "name": "#%% md\n"
    }
   },
   "source": [
    "**From another tensor:**\n",
    "\n",
    "The new tensor retains the properties (shape, datatype) of the argument tensor, unless explicitly overridden.\n",
    "\n"
   ]
  },
  {
   "cell_type": "code",
   "execution_count": 5,
   "metadata": {
    "id": "QzgDKDZBgm0i",
    "pycharm": {
     "name": "#%%\n"
    }
   },
   "outputs": [
    {
     "name": "stdout",
     "output_type": "stream",
     "text": [
      "Ones Tensor: \n",
      " tensor([[1, 1],\n",
      "        [1, 1]]) \n",
      "\n",
      "Random Tensor: \n",
      " tensor([[0.4449, 0.9259],\n",
      "        [0.5022, 0.6926]]) \n",
      "\n"
     ]
    }
   ],
   "source": [
    "x_ones = torch.ones_like(x_data) # retains the properties of x_data\n",
    "print(f\"Ones Tensor: \\n {x_ones} \\n\")\n",
    "\n",
    "x_rand = torch.rand_like(x_data, dtype=torch.float) # overrides the datatype of x_data\n",
    "print(f\"Random Tensor: \\n {x_rand} \\n\")"
   ]
  },
  {
   "cell_type": "markdown",
   "metadata": {
    "collapsed": false,
    "id": "tGVa2GI7gm0i",
    "jupyter": {
     "outputs_hidden": false
    },
    "pycharm": {
     "name": "#%% md\n"
    }
   },
   "source": [
    "**With random or constant values:**\n",
    "\n",
    "``shape`` is a tuple of tensor dimensions. In the functions below, it determines the dimensionality of the output tensor.\n",
    "\n"
   ]
  },
  {
   "cell_type": "code",
   "execution_count": 6,
   "metadata": {
    "id": "-NN_Bkz_gm0i",
    "pycharm": {
     "name": "#%%\n"
    }
   },
   "outputs": [
    {
     "name": "stdout",
     "output_type": "stream",
     "text": [
      "Random Tensor: \n",
      " tensor([[0.1522, 0.1667, 0.6243],\n",
      "        [0.8550, 0.5455, 0.3277]]) \n",
      "\n",
      "Ones Tensor: \n",
      " tensor([[1., 1., 1.],\n",
      "        [1., 1., 1.]]) \n",
      "\n",
      "Zeros Tensor: \n",
      " tensor([[0., 0., 0.],\n",
      "        [0., 0., 0.]])\n"
     ]
    }
   ],
   "source": [
    "shape = (2, 3,)\n",
    "rand_tensor = torch.rand(shape)\n",
    "ones_tensor = torch.ones(shape)\n",
    "zeros_tensor = torch.zeros(shape)\n",
    "\n",
    "print(f\"Random Tensor: \\n {rand_tensor} \\n\")\n",
    "print(f\"Ones Tensor: \\n {ones_tensor} \\n\")\n",
    "print(f\"Zeros Tensor: \\n {zeros_tensor}\")"
   ]
  },
  {
   "cell_type": "markdown",
   "metadata": {
    "collapsed": false,
    "id": "S1oq-v3bgm0i",
    "jupyter": {
     "outputs_hidden": false
    },
    "pycharm": {
     "name": "#%% md\n"
    }
   },
   "source": [
    "--------------\n",
    "\n",
    "\n"
   ]
  },
  {
   "cell_type": "markdown",
   "metadata": {
    "collapsed": false,
    "id": "GiU5qG11gm0i",
    "jupyter": {
     "outputs_hidden": false
    },
    "pycharm": {
     "name": "#%% md\n"
    }
   },
   "source": [
    "## Tensor Attributes\n",
    "\n",
    "Tensor attributes describe their shape, datatype, and the device on which they are stored.\n",
    "\n"
   ]
  },
  {
   "cell_type": "code",
   "execution_count": 7,
   "metadata": {
    "id": "d7x86su0gm0i",
    "pycharm": {
     "name": "#%%\n"
    }
   },
   "outputs": [
    {
     "name": "stdout",
     "output_type": "stream",
     "text": [
      "Shape of tensor: torch.Size([3, 4])\n",
      "Datatype of tensor: torch.float32\n",
      "Device tensor is stored on: cpu\n"
     ]
    }
   ],
   "source": [
    "tensor = torch.rand(3, 4)\n",
    "\n",
    "print(f\"Shape of tensor: {tensor.shape}\")\n",
    "print(f\"Datatype of tensor: {tensor.dtype}\")\n",
    "print(f\"Device tensor is stored on: {tensor.device}\")"
   ]
  },
  {
   "cell_type": "markdown",
   "metadata": {
    "collapsed": false,
    "id": "ML5jRwTNgm0i",
    "jupyter": {
     "outputs_hidden": false
    },
    "pycharm": {
     "name": "#%% md\n"
    }
   },
   "source": [
    "--------------\n",
    "\n",
    "\n"
   ]
  },
  {
   "cell_type": "markdown",
   "metadata": {
    "collapsed": false,
    "id": "hTJc_VhTgm0i",
    "jupyter": {
     "outputs_hidden": false
    },
    "pycharm": {
     "name": "#%% md\n"
    }
   },
   "source": [
    "## Tensor Operations\n",
    "\n",
    "Over 100 tensor operations, including transposing, indexing, slicing,\n",
    "mathematical operations, linear algebra, random sampling, and more are\n",
    "comprehensively described\n",
    "[here](https://pytorch.org/docs/stable/torch.html)_.\n",
    "\n",
    "Each of them can be run on the GPU (at typically higher speeds than on a\n",
    "CPU). If you’re using Colab, allocate a GPU by going to Edit > Notebook\n",
    "Settings.\n",
    "\n",
    "\n"
   ]
  },
  {
   "cell_type": "code",
   "execution_count": 8,
   "metadata": {
    "id": "2vInJIdwgm0i",
    "pycharm": {
     "name": "#%%\n"
    }
   },
   "outputs": [
    {
     "name": "stdout",
     "output_type": "stream",
     "text": [
      "Device tensor is stored on: cuda:0\n"
     ]
    }
   ],
   "source": [
    "# We move our tensor to the GPU if available\n",
    "if torch.cuda.is_available():\n",
    "  tensor = tensor.to('cuda')\n",
    "  print(f\"Device tensor is stored on: {tensor.device}\")"
   ]
  },
  {
   "cell_type": "markdown",
   "metadata": {
    "collapsed": false,
    "id": "E1PbRYTmgm0i",
    "jupyter": {
     "outputs_hidden": false
    },
    "pycharm": {
     "name": "#%% md\n"
    }
   },
   "source": [
    "Try out some of the operations from the list.\n",
    "If you're familiar with the NumPy API, you'll find the Tensor API a breeze to use.\n",
    "\n",
    "\n"
   ]
  },
  {
   "cell_type": "markdown",
   "metadata": {
    "collapsed": false,
    "id": "TJfFOe7qgm0j",
    "jupyter": {
     "outputs_hidden": false
    },
    "pycharm": {
     "name": "#%% md\n"
    }
   },
   "source": [
    "**Standard numpy-like indexing and slicing:**\n",
    "\n"
   ]
  },
  {
   "cell_type": "code",
   "execution_count": 9,
   "metadata": {
    "id": "0xSuqbTWgm0j",
    "pycharm": {
     "name": "#%%\n"
    }
   },
   "outputs": [
    {
     "name": "stdout",
     "output_type": "stream",
     "text": [
      "tensor([[1., 0., 1., 1.],\n",
      "        [1., 0., 1., 1.],\n",
      "        [1., 0., 1., 1.],\n",
      "        [1., 0., 1., 1.]])\n"
     ]
    }
   ],
   "source": [
    "tensor = torch.ones(4, 4)\n",
    "tensor[:,1] = 0\n",
    "print(tensor)"
   ]
  },
  {
   "cell_type": "markdown",
   "metadata": {
    "collapsed": false,
    "id": "OZST5H2Cgm0j",
    "jupyter": {
     "outputs_hidden": false
    },
    "pycharm": {
     "name": "#%% md\n"
    }
   },
   "source": [
    "**Joining tensors** You can use ``torch.cat`` to concatenate a sequence of tensors along a given dimension.\n",
    "See also [torch.stack](https://pytorch.org/docs/stable/generated/torch.stack.html)_,\n",
    "another tensor joining op that is subtly different from ``torch.cat``.\n",
    "\n"
   ]
  },
  {
   "cell_type": "code",
   "execution_count": 22,
   "metadata": {
    "id": "RsgxY0_5gm0j",
    "pycharm": {
     "name": "#%%\n"
    }
   },
   "outputs": [
    {
     "name": "stdout",
     "output_type": "stream",
     "text": [
      "tensor([[6., 5., 6., 6., 6., 5., 6., 6., 6., 5., 6., 6.],\n",
      "        [6., 5., 6., 6., 6., 5., 6., 6., 6., 5., 6., 6.],\n",
      "        [6., 5., 6., 6., 6., 5., 6., 6., 6., 5., 6., 6.],\n",
      "        [6., 5., 6., 6., 6., 5., 6., 6., 6., 5., 6., 6.]])\n"
     ]
    }
   ],
   "source": [
    "t1 = torch.cat([tensor, tensor, tensor], dim=1)\n",
    "print(t1)"
   ]
  },
  {
   "cell_type": "markdown",
   "metadata": {
    "collapsed": false,
    "id": "E2k-NUvygm0j",
    "jupyter": {
     "outputs_hidden": false
    },
    "pycharm": {
     "name": "#%% md\n"
    }
   },
   "source": [
    "**Multiplying tensors**\n",
    "\n"
   ]
  },
  {
   "cell_type": "code",
   "execution_count": 11,
   "metadata": {
    "id": "7c__2aSUgm0j",
    "pycharm": {
     "name": "#%%\n"
    }
   },
   "outputs": [
    {
     "name": "stdout",
     "output_type": "stream",
     "text": [
      "tensor.mul(tensor) \n",
      " tensor([[1., 0., 1., 1.],\n",
      "        [1., 0., 1., 1.],\n",
      "        [1., 0., 1., 1.],\n",
      "        [1., 0., 1., 1.]]) \n",
      "\n",
      "tensor * tensor \n",
      " tensor([[1., 0., 1., 1.],\n",
      "        [1., 0., 1., 1.],\n",
      "        [1., 0., 1., 1.],\n",
      "        [1., 0., 1., 1.]])\n"
     ]
    }
   ],
   "source": [
    "# This computes the element-wise product\n",
    "print(f\"tensor.mul(tensor) \\n {tensor.mul(tensor)} \\n\")\n",
    "# Alternative syntax:\n",
    "print(f\"tensor * tensor \\n {tensor * tensor}\")"
   ]
  },
  {
   "cell_type": "markdown",
   "metadata": {
    "collapsed": false,
    "id": "D7apA-tWgm0j",
    "jupyter": {
     "outputs_hidden": false
    },
    "pycharm": {
     "name": "#%% md\n"
    }
   },
   "source": [
    "This computes the matrix multiplication between two tensors\n",
    "\n"
   ]
  },
  {
   "cell_type": "code",
   "execution_count": 12,
   "metadata": {
    "id": "6t_lBXtSgm0j",
    "pycharm": {
     "name": "#%%\n"
    }
   },
   "outputs": [
    {
     "name": "stdout",
     "output_type": "stream",
     "text": [
      "tensor.matmul(tensor.T) \n",
      " tensor([[3., 3., 3., 3.],\n",
      "        [3., 3., 3., 3.],\n",
      "        [3., 3., 3., 3.],\n",
      "        [3., 3., 3., 3.]]) \n",
      "\n",
      "tensor @ tensor.T \n",
      " tensor([[3., 3., 3., 3.],\n",
      "        [3., 3., 3., 3.],\n",
      "        [3., 3., 3., 3.],\n",
      "        [3., 3., 3., 3.]])\n"
     ]
    }
   ],
   "source": [
    "print(f\"tensor.matmul(tensor.T) \\n {tensor.matmul(tensor.T)} \\n\")\n",
    "# Alternative syntax:\n",
    "print(f\"tensor @ tensor.T \\n {tensor @ tensor.T}\")"
   ]
  },
  {
   "cell_type": "markdown",
   "metadata": {
    "collapsed": false,
    "id": "fYJHoT7Zgm0j",
    "jupyter": {
     "outputs_hidden": false
    },
    "pycharm": {
     "name": "#%% md\n"
    }
   },
   "source": [
    "**In-place operations**\n",
    "Operations that have a ``_`` suffix are in-place. For example: ``x.copy_(y)``, ``x.t_()``, will change ``x``.\n",
    "\n"
   ]
  },
  {
   "cell_type": "code",
   "execution_count": 13,
   "metadata": {
    "id": "5kbr3M2ggm0j",
    "pycharm": {
     "name": "#%%\n"
    }
   },
   "outputs": [
    {
     "name": "stdout",
     "output_type": "stream",
     "text": [
      "tensor([[1., 0., 1., 1.],\n",
      "        [1., 0., 1., 1.],\n",
      "        [1., 0., 1., 1.],\n",
      "        [1., 0., 1., 1.]]) \n",
      "\n",
      "tensor([[6., 5., 6., 6.],\n",
      "        [6., 5., 6., 6.],\n",
      "        [6., 5., 6., 6.],\n",
      "        [6., 5., 6., 6.]])\n"
     ]
    }
   ],
   "source": [
    "print(tensor, \"\\n\")\n",
    "tensor.add_(5)\n",
    "print(tensor)"
   ]
  },
  {
   "cell_type": "code",
   "execution_count": 20,
   "metadata": {},
   "outputs": [
    {
     "name": "stdout",
     "output_type": "stream",
     "text": [
      "Tue May  7 10:30:37 2024       \n",
      "+---------------------------------------------------------------------------------------+\n",
      "| NVIDIA-SMI 535.129.03             Driver Version: 535.129.03   CUDA Version: 12.2     |\n",
      "|-----------------------------------------+----------------------+----------------------+\n",
      "| GPU  Name                 Persistence-M | Bus-Id        Disp.A | Volatile Uncorr. ECC |\n",
      "| Fan  Temp   Perf          Pwr:Usage/Cap |         Memory-Usage | GPU-Util  Compute M. |\n",
      "|                                         |                      |               MIG M. |\n",
      "|=========================================+======================+======================|\n",
      "|   0  NVIDIA GeForce RTX 3090        On  | 00000000:B3:00.0 Off |                  N/A |\n",
      "| 30%   42C    P8              21W / 350W |    556MiB / 24576MiB |      0%      Default |\n",
      "|                                         |                      |                  N/A |\n",
      "+-----------------------------------------+----------------------+----------------------+\n",
      "                                                                                         \n",
      "+---------------------------------------------------------------------------------------+\n",
      "| Processes:                                                                            |\n",
      "|  GPU   GI   CI        PID   Type   Process name                            GPU Memory |\n",
      "|        ID   ID                                                             Usage      |\n",
      "|=======================================================================================|\n",
      "|    0   N/A  N/A   2656762      C   /home/stu7/anaconda3/bin/python             256MiB |\n",
      "|    0   N/A  N/A   2656822      C   /home/stu6/anaconda3/bin/python             256MiB |\n",
      "+---------------------------------------------------------------------------------------+\n"
     ]
    }
   ],
   "source": [
    "!nvidia-smi"
   ]
  },
  {
   "cell_type": "markdown",
   "metadata": {
    "collapsed": false,
    "id": "25Z5UsqPgm0j",
    "jupyter": {
     "outputs_hidden": false
    },
    "pycharm": {
     "name": "#%% md\n"
    }
   },
   "source": [
    "<div class=\"alert alert-info\"><h4>Note</h4><p>In-place operations save some memory, but can be problematic when computing derivatives because of an immediate loss\n",
    "     of history. Hence, their use is discouraged.</p></div>\n",
    "\n"
   ]
  },
  {
   "cell_type": "markdown",
   "metadata": {
    "collapsed": false,
    "id": "pmmdXqRXgm0j",
    "jupyter": {
     "outputs_hidden": false
    },
    "pycharm": {
     "name": "#%% md\n"
    }
   },
   "source": [
    "# A toy example"
   ]
  },
  {
   "cell_type": "markdown",
   "metadata": {
    "collapsed": false,
    "id": "KUxSwl4Sgm0j",
    "jupyter": {
     "outputs_hidden": false
    },
    "pycharm": {
     "name": "#%% md\n"
    }
   },
   "source": [
    "In lecture 9, we have presented a simple demo with numpy for classification. Now we show how this can be achieved by pytorch.\n",
    "\n",
    "First, let's prepare our toy dataset:"
   ]
  },
  {
   "cell_type": "code",
   "execution_count": 14,
   "metadata": {
    "id": "X2Ccxuysgm0j",
    "pycharm": {
     "name": "#%%\n"
    }
   },
   "outputs": [],
   "source": [
    "import torch\n",
    "from matplotlib import pyplot as plt\n",
    "\n",
    "# Set random seed for reproducibility\n",
    "torch.manual_seed(42)\n",
    "\n",
    "# Initialize weights and data\n",
    "N, Din, H, Dout = 128, 64, 64, 1\n",
    "lr = 5e-5\n",
    "\n",
    "# Training data\n",
    "x_train = torch.randn(N, Din)\n",
    "y_train = torch.zeros(N, 1)\n",
    "x_train[:N // 2, 0] = x_train[:N // 2, 0] * 2 + 5\n",
    "y_train[:N // 2, 0] = 1\n",
    "\n",
    "# Test data\n",
    "N_test = N\n",
    "x_test = torch.randn(N_test, Din)\n",
    "y_test = torch.zeros(N_test, 1)\n",
    "x_test[:N_test // 2, 0] = x_test[:N_test // 2, 0] * 2 + 5\n",
    "y_test[:N_test // 2, 0] = 1"
   ]
  },
  {
   "cell_type": "markdown",
   "metadata": {
    "collapsed": false,
    "id": "BA8Z90jggm0j",
    "jupyter": {
     "outputs_hidden": false
    },
    "pycharm": {
     "name": "#%% md\n"
    }
   },
   "source": [
    "Now let's visualize our training data:"
   ]
  },
  {
   "cell_type": "code",
   "execution_count": 15,
   "metadata": {
    "colab": {
     "base_uri": "https://localhost:8080/",
     "height": 451
    },
    "id": "A7-_u22Kgm0j",
    "outputId": "7a0eea05-f9a8-4ffa-ca6c-6864eff46bdf",
    "pycharm": {
     "name": "#%%\n"
    }
   },
   "outputs": [
    {
     "data": {
      "image/png": "[encoded data removed]",
      "text/plain": [
       "<Figure size 640x480 with 1 Axes>"
      ]
     },
     "metadata": {},
     "output_type": "display_data"
    }
   ],
   "source": [
    "plt.scatter(x_train[:, 0], x_train[:, 1], c=y_train[:, 0], cmap=plt.cm.Spectral)\n",
    "plt.xlabel('x')\n",
    "plt.ylabel('y')\n",
    "plt.show()"
   ]
  },
  {
   "cell_type": "markdown",
   "metadata": {
    "collapsed": false,
    "id": "S5zaNNaAgm0j",
    "jupyter": {
     "outputs_hidden": false
    },
    "pycharm": {
     "name": "#%% md\n"
    }
   },
   "source": [
    "Now, we define our neural network with one hidden layer (with the dimension being `H`). The neural network is parameterized by two matrices: `theta1` (project input data into hidden space) and `theta2` (project from hidden space to output space):"
   ]
  },
  {
   "cell_type": "code",
   "execution_count": 17,
   "metadata": {
    "id": "tjaEFL6jgm0j",
    "pycharm": {
     "name": "#%%\n"
    }
   },
   "outputs": [],
   "source": [
    "theta1 = torch.randn(Din, H, requires_grad=True)\n",
    "theta2 = torch.randn(H, Dout, requires_grad=True)"
   ]
  },
  {
   "cell_type": "markdown",
   "metadata": {
    "collapsed": false,
    "id": "BH7aEAABgm0j",
    "jupyter": {
     "outputs_hidden": false
    },
    "pycharm": {
     "name": "#%% md\n"
    }
   },
   "source": [
    "## Forward Propagation and Loss Calculation\n",
    "We can easily use forward propagation to obtain the model's prediction and calculate the cross-entropy loss within few lines:"
   ]
  },
  {
   "cell_type": "code",
   "execution_count": 18,
   "metadata": {
    "id": "5dpA9cojgm0j",
    "pycharm": {
     "name": "#%%\n"
    }
   },
   "outputs": [],
   "source": [
    "h = torch.sigmoid(x_train.matmul(theta1))\n",
    "h.retain_grad()\n",
    "y_pred = torch.sigmoid(h.matmul(theta2))\n",
    "\n",
    "# Calculate loss\n",
    "loss = torch.mean(-(1 - y_train) * torch.log(1 - y_pred) - y_train * torch.log(y_pred))"
   ]
  },
  {
   "cell_type": "markdown",
   "metadata": {
    "collapsed": false,
    "id": "ARJ_bmdSgm0j",
    "jupyter": {
     "outputs_hidden": false
    },
    "pycharm": {
     "name": "#%% md\n"
    }
   },
   "source": [
    "## Back Propagation\n",
    "For gradient calculation, pytorch can automatically achieve this by a single call of `loss.backward()`:"
   ]
  },
  {
   "cell_type": "code",
   "execution_count": 19,
   "metadata": {
    "colab": {
     "base_uri": "https://localhost:8080/"
    },
    "id": "I2sqkmhxgm0k",
    "outputId": "7df59773-7756-4d18-b594-c0b7cad7a013",
    "pycharm": {
     "name": "#%%\n"
    }
   },
   "outputs": [
    {
     "name": "stdout",
     "output_type": "stream",
     "text": [
      "dJ / d theta1=\n",
      " tensor([[ 0.0113,  0.0119,  0.0798,  ...,  0.0436,  0.0545, -0.0224],\n",
      "        [-0.0023,  0.0004, -0.0008,  ..., -0.0062, -0.0132,  0.0043],\n",
      "        [-0.0002, -0.0027, -0.0049,  ..., -0.0036,  0.0025,  0.0020],\n",
      "        ...,\n",
      "        [ 0.0018,  0.0007, -0.0011,  ...,  0.0087,  0.0002, -0.0016],\n",
      "        [-0.0004, -0.0002,  0.0074,  ..., -0.0027, -0.0075,  0.0039],\n",
      "        [-0.0020,  0.0002, -0.0085,  ..., -0.0033, -0.0013,  0.0025]]) \n",
      "shape of dJ / d theta1: torch.Size([64, 64])\n",
      "dJ / d theta2=\n",
      " tensor([[ 0.0863],\n",
      "        [-0.0455],\n",
      "        [-0.0416],\n",
      "        [ 0.0762],\n",
      "        [ 0.0937],\n",
      "        [-0.0134],\n",
      "        [ 0.0087],\n",
      "        [-0.0277],\n",
      "        [ 0.0171],\n",
      "        [-0.0267],\n",
      "        [ 0.0369],\n",
      "        [ 0.0183],\n",
      "        [ 0.0669],\n",
      "        [-0.0547],\n",
      "        [ 0.0623],\n",
      "        [ 0.0831],\n",
      "        [-0.0901],\n",
      "        [ 0.1005],\n",
      "        [ 0.0667],\n",
      "        [ 0.1009],\n",
      "        [ 0.0709],\n",
      "        [ 0.0545],\n",
      "        [ 0.0449],\n",
      "        [ 0.0364],\n",
      "        [ 0.0984],\n",
      "        [-0.0151],\n",
      "        [-0.0134],\n",
      "        [ 0.0235],\n",
      "        [ 0.0626],\n",
      "        [-0.0478],\n",
      "        [ 0.0026],\n",
      "        [ 0.1298],\n",
      "        [-0.0635],\n",
      "        [-0.0133],\n",
      "        [ 0.0292],\n",
      "        [ 0.0427],\n",
      "        [-0.0165],\n",
      "        [ 0.0401],\n",
      "        [ 0.0264],\n",
      "        [ 0.0284],\n",
      "        [ 0.0360],\n",
      "        [ 0.0566],\n",
      "        [ 0.0435],\n",
      "        [ 0.0092],\n",
      "        [ 0.0217],\n",
      "        [ 0.0170],\n",
      "        [ 0.0470],\n",
      "        [ 0.0103],\n",
      "        [-0.0207],\n",
      "        [-0.0188],\n",
      "        [-0.0648],\n",
      "        [ 0.0331],\n",
      "        [-0.0438],\n",
      "        [ 0.0308],\n",
      "        [ 0.0258],\n",
      "        [ 0.0333],\n",
      "        [-0.0023],\n",
      "        [ 0.0607],\n",
      "        [-0.0358],\n",
      "        [ 0.0734],\n",
      "        [ 0.0806],\n",
      "        [ 0.0191],\n",
      "        [ 0.0813],\n",
      "        [ 0.0329]]) \n",
      "shape of dJ / d theta2: torch.Size([64, 1])\n"
     ]
    }
   ],
   "source": [
    "loss.backward()\n",
    "\n",
    "# obtain the gradients on theta1 and theta2\n",
    "print('dJ / d theta1=\\n', theta1.grad, \"\\nshape of dJ / d theta1:\", theta1.grad.shape)\n",
    "print('dJ / d theta2=\\n', theta2.grad, \"\\nshape of dJ / d theta2:\", theta2.grad.shape)"
   ]
  },
  {
   "cell_type": "markdown",
   "metadata": {
    "collapsed": false,
    "id": "fohNiFYvgm0k",
    "jupyter": {
     "outputs_hidden": false
    },
    "pycharm": {
     "name": "#%% md\n"
    }
   },
   "source": [
    "We can also inspect the gradient $dJ/dh$, that is the gradient with respect to the activation of the hidden layer:"
   ]
  },
  {
   "cell_type": "code",
   "execution_count": 23,
   "metadata": {
    "colab": {
     "base_uri": "https://localhost:8080/"
    },
    "id": "3__0MuD7gm0k",
    "outputId": "10422004-50f6-4656-db80-86c22c5049bf",
    "pycharm": {
     "name": "#%%\n"
    }
   },
   "outputs": [
    {
     "name": "stdout",
     "output_type": "stream",
     "text": [
      "dJ/dh=\n",
      " tensor([[ 4.4026e-05,  5.5043e-05,  2.5159e-04,  ...,  1.1555e-04,\n",
      "          2.7546e-04, -8.9710e-05],\n",
      "        [ 6.9841e-06,  8.7317e-06,  3.9911e-05,  ...,  1.8330e-05,\n",
      "          4.3697e-05, -1.4231e-05],\n",
      "        [ 2.2154e-05,  2.7698e-05,  1.2660e-04,  ...,  5.8143e-05,\n",
      "          1.3861e-04, -4.5142e-05],\n",
      "        ...,\n",
      "        [-2.2218e-03, -2.7777e-03, -1.2696e-02,  ..., -5.8310e-03,\n",
      "         -1.3901e-02,  4.5272e-03],\n",
      "        [-1.7793e-03, -2.2246e-03, -1.0168e-02,  ..., -4.6698e-03,\n",
      "         -1.1133e-02,  3.6257e-03],\n",
      "        [-1.2929e-03, -1.6164e-03, -7.3884e-03,  ..., -3.3932e-03,\n",
      "         -8.0893e-03,  2.6345e-03]])\n",
      "shape of dJ/dh: torch.Size([128, 64])\n"
     ]
    }
   ],
   "source": [
    "print(\"dJ/dh=\\n\", h.grad)\n",
    "print(\"shape of dJ/dh:\", h.grad.shape)"
   ]
  },
  {
   "cell_type": "markdown",
   "metadata": {
    "id": "XUyqi_29guTe"
   },
   "source": [
    "Now, let's test if the gradient calculated by pytorch is the same as our analytical solution. We take $\\theta_2$ as an example:\n",
    "$$\n",
    "\\frac{dJ}{d\\theta_2} = \\frac {h^T (y_{\\text{pred}}-y_{\\text{train}})}{N}\n",
    "$$\n",
    "Note that here $h$ and $y$ are all matrices since we are performing training on batch-level."
   ]
  },
  {
   "cell_type": "code",
   "execution_count": 24,
   "metadata": {
    "colab": {
     "base_uri": "https://localhost:8080/"
    },
    "id": "v20u66UDg7Cl",
    "outputId": "3908e759-454e-42b3-f30c-67d3b4de4c87"
   },
   "outputs": [
    {
     "name": "stdout",
     "output_type": "stream",
     "text": [
      "dJ / d theta2 (Pytorch)=\n",
      " tensor([ 0.0863, -0.0455, -0.0416,  0.0762,  0.0937, -0.0134,  0.0087, -0.0277,\n",
      "         0.0171, -0.0267,  0.0369,  0.0183,  0.0669, -0.0547,  0.0623,  0.0831,\n",
      "        -0.0901,  0.1005,  0.0667,  0.1009,  0.0709,  0.0545,  0.0449,  0.0364,\n",
      "         0.0984, -0.0151, -0.0134,  0.0235,  0.0626, -0.0478,  0.0026,  0.1298,\n",
      "        -0.0635, -0.0133,  0.0292,  0.0427, -0.0165,  0.0401,  0.0264,  0.0284,\n",
      "         0.0360,  0.0566,  0.0435,  0.0092,  0.0217,  0.0170,  0.0470,  0.0103,\n",
      "        -0.0207, -0.0188, -0.0648,  0.0331, -0.0438,  0.0308,  0.0258,  0.0333,\n",
      "        -0.0023,  0.0607, -0.0358,  0.0734,  0.0806,  0.0191,  0.0813,  0.0329])\n",
      "dJ / d theta2 (analytical)=\n",
      " tensor([ 0.0863, -0.0455, -0.0416,  0.0762,  0.0937, -0.0134,  0.0087, -0.0277,\n",
      "         0.0171, -0.0267,  0.0369,  0.0183,  0.0669, -0.0547,  0.0623,  0.0831,\n",
      "        -0.0901,  0.1005,  0.0667,  0.1009,  0.0709,  0.0545,  0.0449,  0.0364,\n",
      "         0.0984, -0.0151, -0.0134,  0.0235,  0.0626, -0.0478,  0.0026,  0.1298,\n",
      "        -0.0635, -0.0133,  0.0292,  0.0427, -0.0165,  0.0401,  0.0264,  0.0284,\n",
      "         0.0360,  0.0566,  0.0435,  0.0092,  0.0217,  0.0170,  0.0470,  0.0103,\n",
      "        -0.0207, -0.0188, -0.0648,  0.0331, -0.0438,  0.0308,  0.0258,  0.0333,\n",
      "        -0.0023,  0.0607, -0.0358,  0.0734,  0.0806,  0.0191,  0.0813,  0.0329],\n",
      "       grad_fn=<SqueezeBackward0>)\n"
     ]
    }
   ],
   "source": [
    "print('dJ / d theta2 (Pytorch)=\\n', theta2.grad.squeeze())\n",
    "print('dJ / d theta2 (analytical)=\\n', (h.T @ (y_pred - y_train) / N).squeeze())"
   ]
  },
  {
   "cell_type": "markdown",
   "metadata": {
    "collapsed": false,
    "id": "_-Qp2LyUgm0k",
    "jupyter": {
     "outputs_hidden": false
    },
    "pycharm": {
     "name": "#%% md\n"
    }
   },
   "source": [
    "## Gradient Descent\n",
    "Next, we can use pytorch's optimizer to perform gradient descent easily:"
   ]
  },
  {
   "cell_type": "code",
   "execution_count": 25,
   "metadata": {
    "colab": {
     "base_uri": "https://localhost:8080/"
    },
    "id": "tpuIy3L0gm0k",
    "outputId": "13ed6fc1-1be2-43c3-830a-c69be9390bc4",
    "pycharm": {
     "name": "#%%\n"
    }
   },
   "outputs": [
    {
     "name": "stdout",
     "output_type": "stream",
     "text": [
      "theta_1 before gradient descent:\n",
      " tensor([[-1.3047,  1.4507,  0.2443,  ..., -0.1408, -1.4311, -0.1850],\n",
      "        [ 0.8868, -0.2988, -0.5001,  ..., -0.0105,  0.8178,  0.1980],\n",
      "        [ 0.9566, -0.6351,  0.5435,  ...,  0.3815, -0.5045,  0.6647],\n",
      "        ...,\n",
      "        [-1.8424, -0.3769,  0.4985,  ...,  1.0519, -1.0642, -0.7167],\n",
      "        [ 0.6115,  0.4193, -0.9970,  ...,  0.1066, -0.7907,  0.2683],\n",
      "        [-0.5824, -0.3426,  0.4904,  ...,  2.5234,  1.3809,  0.4820]])\n",
      "theta_1 after gradient descent:\n",
      " tensor([[-1.3048,  1.4506,  0.2435,  ..., -0.1412, -1.4317, -0.1847],\n",
      "        [ 0.8868, -0.2988, -0.5001,  ..., -0.0104,  0.8179,  0.1979],\n",
      "        [ 0.9566, -0.6351,  0.5435,  ...,  0.3815, -0.5045,  0.6647],\n",
      "        ...,\n",
      "        [-1.8424, -0.3769,  0.4985,  ...,  1.0518, -1.0642, -0.7167],\n",
      "        [ 0.6115,  0.4193, -0.9970,  ...,  0.1066, -0.7906,  0.2682],\n",
      "        [-0.5824, -0.3426,  0.4905,  ...,  2.5234,  1.3809,  0.4819]],\n",
      "       requires_grad=True)\n"
     ]
    }
   ],
   "source": [
    "import torch.optim as optim\n",
    "optimizer = optim.SGD([theta1, theta2], lr=0.01)\n",
    "\n",
    "theta1_orig = theta1.clone().detach()  # record the parameters before gradient descent, we use theta_1 as an example\n",
    "optimizer.step()  # perform gradient descent\n",
    "print('theta_1 before gradient descent:\\n', theta1_orig)\n",
    "print('theta_1 after gradient descent:\\n', theta1)"
   ]
  },
  {
   "cell_type": "markdown",
   "metadata": {
    "collapsed": false,
    "id": "VG8t2Dqugm0k",
    "jupyter": {
     "outputs_hidden": false
    },
    "pycharm": {
     "name": "#%% md\n"
    }
   },
   "source": [
    "The parameters have already been updated by `optimizer.step`.\n",
    "We can verify this gradient descent step is equal as our learned formulation:\n",
    "\n",
    "$$\n",
    "\\theta_1\\leftarrow \\theta_1 - \\alpha \\cdot \\frac{\\partial J}{\\partial \\theta_1}\n",
    "$$"
   ]
  },
  {
   "cell_type": "code",
   "execution_count": 28,
   "metadata": {
    "colab": {
     "base_uri": "https://localhost:8080/"
    },
    "id": "nzY47s04gm0k",
    "outputId": "3f050eba-5aec-41ef-9019-ca077d46bc29",
    "pycharm": {
     "name": "#%%\n"
    }
   },
   "outputs": [
    {
     "name": "stdout",
     "output_type": "stream",
     "text": [
      "theta_1 after gradient descent (analytical):\n",
      " tensor([[-1.3048,  1.4506,  0.2435,  ..., -0.1412, -1.4317, -0.1847],\n",
      "        [ 0.8868, -0.2988, -0.5001,  ..., -0.0104,  0.8179,  0.1979],\n",
      "        [ 0.9566, -0.6351,  0.5435,  ...,  0.3815, -0.5045,  0.6647],\n",
      "        ...,\n",
      "        [-1.8424, -0.3769,  0.4985,  ...,  1.0518, -1.0642, -0.7167],\n",
      "        [ 0.6115,  0.4193, -0.9970,  ...,  0.1066, -0.7906,  0.2682],\n",
      "        [-0.5824, -0.3426,  0.4905,  ...,  2.5234,  1.3809,  0.4819]])\n",
      "theta_1 after gradient descent (analytical) - theta_1 after gradient descent (PyTorch):\n",
      " tensor([[0., 0., 0.,  ..., 0., 0., 0.],\n",
      "        [0., 0., 0.,  ..., 0., 0., 0.],\n",
      "        [0., 0., 0.,  ..., 0., 0., 0.],\n",
      "        ...,\n",
      "        [0., 0., 0.,  ..., 0., 0., 0.],\n",
      "        [0., 0., 0.,  ..., 0., 0., 0.],\n",
      "        [0., 0., 0.,  ..., 0., 0., 0.]], grad_fn=<SubBackward0>)\n"
     ]
    }
   ],
   "source": [
    "theta1_new_analytical = theta1_orig - 0.01 * theta1.grad\n",
    "print('theta_1 after gradient descent (analytical):\\n', theta1_new_analytical)\n",
    "print('theta_1 after gradient descent (analytical) - theta_1 after gradient descent (PyTorch):\\n', theta1_new_analytical - theta1)"
   ]
  },
  {
   "cell_type": "markdown",
   "metadata": {
    "collapsed": false,
    "id": "7-sFLCaogm0k",
    "jupyter": {
     "outputs_hidden": false
    },
    "pycharm": {
     "name": "#%% md\n"
    }
   },
   "source": [
    "## Training Loop\n",
    "Now, let's perform training on this toy dataset by repeating the above forward & backward & gradient descent pipeline for 10000 times and see how the neural network learns. "
   ]
  },
  {
   "cell_type": "code",
   "execution_count": 29,
   "metadata": {
    "colab": {
     "base_uri": "https://localhost:8080/",
     "height": 449
    },
    "id": "EeSLijbPgm0k",
    "outputId": "be7e7b52-a1b2-4e7b-8371-2120345f76c5",
    "pycharm": {
     "name": "#%%\n"
    }
   },
   "outputs": [
    {
     "data": {
      "image/png": "[encoded data removed]",
      "text/plain": [
       "<Figure size 640x480 with 2 Axes>"
      ]
     },
     "metadata": {},
     "output_type": "display_data"
    }
   ],
   "source": [
    "# Training\n",
    "loss_list = []\n",
    "accuracy_list = []\n",
    "for t in range(10000):\n",
    "    optimizer.zero_grad()\n",
    "    # Forward\n",
    "    h = torch.sigmoid(x_train.matmul(theta1))\n",
    "    y_pred = torch.sigmoid(h.matmul(theta2))\n",
    "    \n",
    "    # Calculate loss\n",
    "    loss = torch.mean(-(1 - y_train) * torch.log(1 - y_pred) - y_train * torch.log(y_pred))\n",
    "    loss_list.append(loss.item())\n",
    "\n",
    "    # Test accuracy\n",
    "    with torch.no_grad():\n",
    "        h_test = torch.sigmoid(x_test.matmul(theta1))\n",
    "        y_pred_test = torch.sigmoid(h_test.matmul(theta2))\n",
    "        accuracy = torch.mean(((y_pred_test > 0.5) == y_test).float()).item() * 100.0\n",
    "        accuracy_list.append(accuracy)\n",
    "    \n",
    "    # Backward\n",
    "    loss.backward()\n",
    "    \n",
    "    # Update weights with gradient descent\n",
    "    optimizer.step()\n",
    "    \n",
    "# Plot\n",
    "fig, ax1 = plt.subplots()\n",
    "ax1.set_xlabel(\"training steps\")\n",
    "ax1.set_ylabel(\"training loss\")\n",
    "loss_curve = ax1.plot(range(len(loss_list)), loss_list, label=\"training loss\", color=\"tab:blue\")\n",
    "\n",
    "ax2 = ax1.twinx()\n",
    "ax2.set_ylabel(\"test accuracy (%)\")\n",
    "accuracy_curve = ax2.plot(range(len(accuracy_list)), accuracy_list, label=\"test accuracy\", color=\"tab:orange\")\n",
    "\n",
    "curves = loss_curve + accuracy_curve\n",
    "labels = [c.get_label() for c in curves]\n",
    "ax1.legend(curves, labels, loc=\"center right\")\n",
    "\n",
    "plt.show()\n"
   ]
  },
  {
   "cell_type": "markdown",
   "metadata": {
    "collapsed": false,
    "id": "pFQ55fI9gm0k",
    "jupyter": {
     "outputs_hidden": false
    },
    "pycharm": {
     "name": "#%% md\n"
    }
   },
   "source": [
    "\n",
    "# Training a Classifier\n",
    "\n",
    "\n",
    "## Data Preparation\n",
    "\n",
    "Generally, when you have to deal with image, text, audio or video data,\n",
    "you can use standard python packages that load data into a numpy array.\n",
    "Then you can convert this array into a ``torch.*Tensor``.\n",
    "\n",
    "Specifically for vision, we have created a package called\n",
    "``torchvision``, that has data loaders for common datasets such as\n",
    "ImageNet, CIFAR10, MNIST, etc. and data transformers for images, viz.,\n",
    "``torchvision.datasets`` and ``torch.utils.data.DataLoader``.\n",
    "\n",
    "This provides a huge convenience and avoids writing boilerplate code.\n",
    "\n",
    "For this tutorial, we will use the CIFAR10 dataset.\n",
    "It has the classes: ‘airplane’, ‘automobile’, ‘bird’, ‘cat’, ‘deer’,\n",
    "‘dog’, ‘frog’, ‘horse’, ‘ship’, ‘truck’. The images in CIFAR-10 are of\n",
    "size 3x32x32, i.e. 3-channel color images of 32x32 pixels in size.\n",
    "\n",
    "## Training an image classifier\n",
    "\n",
    "We will do the following steps in order:\n",
    "\n",
    "1. Load and normalize the CIFAR10 training and test datasets using\n",
    "   ``torchvision``\n",
    "2. Define a Neural Network\n",
    "3. Define a loss function\n",
    "4. Train the network on the training data\n",
    "5. Test the network on the test data\n",
    "\n",
    "### 1. Load and normalize CIFAR10\n",
    "\n",
    "Using ``torchvision``, it’s extremely easy to load CIFAR10.\n"
   ]
  },
  {
   "cell_type": "code",
   "execution_count": 30,
   "metadata": {
    "id": "aLbtL1Zwgm0k",
    "pycharm": {
     "name": "#%%\n"
    }
   },
   "outputs": [],
   "source": [
    "import torchvision\n",
    "import torchvision.transforms as transforms"
   ]
  },
  {
   "cell_type": "markdown",
   "metadata": {
    "collapsed": false,
    "id": "epsgNZk6gm0k",
    "jupyter": {
     "outputs_hidden": false
    },
    "pycharm": {
     "name": "#%% md\n"
    }
   },
   "source": [
    "The output of torchvision datasets are PILImage images of range [0, 1].\n",
    "We transform them to Tensors of normalized range [-1, 1].\n",
    "\n"
   ]
  },
  {
   "cell_type": "code",
   "execution_count": 31,
   "metadata": {
    "id": "7gM5ohaBgm0k",
    "pycharm": {
     "name": "#%%\n"
    }
   },
   "outputs": [
    {
     "name": "stdout",
     "output_type": "stream",
     "text": [
      "Downloading https://www.cs.toronto.edu/~kriz/cifar-10-python.tar.gz to ./data/cifar-10-python.tar.gz\n"
     ]
    },
    {
     "name": "stderr",
     "output_type": "stream",
     "text": [
      "100%|████████████████████████████████████████████████████████████████| 170498071/170498071 [02:06<00:00, 1342670.03it/s]\n"
     ]
    },
    {
     "name": "stdout",
     "output_type": "stream",
     "text": [
      "Extracting ./data/cifar-10-python.tar.gz to ./data\n",
      "Files already downloaded and verified\n"
     ]
    }
   ],
   "source": [
    "transform = transforms.Compose(\n",
    "    [transforms.ToTensor(),\n",
    "     transforms.Normalize((0.5, 0.5, 0.5), (0.5, 0.5, 0.5))])\n",
    "\n",
    "batch_size = 128\n",
    "\n",
    "trainset = torchvision.datasets.CIFAR10(root='./data', train=True,\n",
    "                                        download=True, transform=transform)\n",
    "trainloader = torch.utils.data.DataLoader(trainset, batch_size=batch_size,\n",
    "                                          shuffle=True, num_workers=4)\n",
    "\n",
    "testset = torchvision.datasets.CIFAR10(root='./data', train=False,\n",
    "                                       download=True, transform=transform)\n",
    "testloader = torch.utils.data.DataLoader(testset, batch_size=batch_size,\n",
    "                                         shuffle=False, num_workers=4)\n",
    "\n",
    "classes = ('plane', 'car', 'bird', 'cat',\n",
    "           'deer', 'dog', 'frog', 'horse', 'ship', 'truck')"
   ]
  },
  {
   "cell_type": "markdown",
   "metadata": {
    "collapsed": false,
    "id": "1wGAhU82gm0k",
    "jupyter": {
     "outputs_hidden": false
    },
    "pycharm": {
     "name": "#%% md\n"
    }
   },
   "source": [
    "Let us show some of the training images, for fun.\n",
    "\n"
   ]
  },
  {
   "cell_type": "code",
   "execution_count": 34,
   "metadata": {
    "id": "KnqY1e8Xgm0k",
    "pycharm": {
     "name": "#%%\n"
    }
   },
   "outputs": [
    {
     "data": {
      "image/png": "[encoded data removed]",
      "text/plain": [
       "<Figure size 640x480 with 1 Axes>"
      ]
     },
     "metadata": {},
     "output_type": "display_data"
    },
    {
     "name": "stdout",
     "output_type": "stream",
     "text": [
      "horse frog  frog  horse\n"
     ]
    }
   ],
   "source": [
    "import matplotlib.pyplot as plt\n",
    "import numpy as np\n",
    "\n",
    "# functions to show an image\n",
    "\n",
    "\n",
    "def imshow(img):\n",
    "    img = img / 2 + 0.5     # unnormalize\n",
    "    npimg = img.numpy()\n",
    "    plt.imshow(np.transpose(npimg, (1, 2, 0)))\n",
    "    plt.show()\n",
    "\n",
    "\n",
    "# get some random training images\n",
    "dataiter = iter(trainloader)\n",
    "images, labels = next(dataiter)\n",
    "\n",
    "# show images\n",
    "imshow(torchvision.utils.make_grid(images[:4]))\n",
    "# print labels\n",
    "print(' '.join(f'{classes[labels[j]]:5s}' for j in range(4)))"
   ]
  },
  {
   "cell_type": "markdown",
   "metadata": {
    "collapsed": false,
    "id": "6FPFN7iMgm0l",
    "jupyter": {
     "outputs_hidden": false
    },
    "pycharm": {
     "name": "#%% md\n"
    }
   },
   "source": [
    "### 2. Define a Neural Network\n",
    "Here, we define a simple neural network with 2 hidden layers:\n",
    "\n"
   ]
  },
  {
   "cell_type": "code",
   "execution_count": 35,
   "metadata": {
    "id": "_0UUCtcmgm0l",
    "pycharm": {
     "name": "#%%\n"
    }
   },
   "outputs": [],
   "source": [
    "import torch.nn as nn\n",
    "import torch.nn.functional as F\n",
    "\n",
    "\n",
    "class Net(nn.Module):\n",
    "    def __init__(self):\n",
    "        super().__init__()\n",
    "        self.fc1 = nn.Linear(3*32*32, 768)\n",
    "        self.fc2 = nn.Linear(768, 10)\n",
    "        \n",
    "    def forward(self, x):\n",
    "        x = x.flatten(1)\n",
    "        x = self.fc1(x)\n",
    "        x = F.relu(x)\n",
    "        x = self.fc2(x)\n",
    "        return x\n",
    "\n",
    "net = Net().cuda()  # put the neural network to GPU"
   ]
  },
  {
   "cell_type": "code",
   "execution_count": 44,
   "metadata": {},
   "outputs": [
    {
     "name": "stdout",
     "output_type": "stream",
     "text": [
      "['fc1.weight', 'fc1.bias', 'fc2.weight', 'fc2.bias']\n"
     ]
    }
   ],
   "source": [
    "l = [n for n,p in net.named_parameters()]\n",
    "print(l)"
   ]
  },
  {
   "cell_type": "markdown",
   "metadata": {
    "collapsed": false,
    "id": "SpWdRFV5gm0l",
    "jupyter": {
     "outputs_hidden": false
    },
    "pycharm": {
     "name": "#%% md\n"
    }
   },
   "source": [
    "### 3. Define a Loss function and optimizer\n",
    "Let's use a Classification Cross-Entropy loss.\n",
    "For optimizer, we adopt a highly effective one called Adam. \n",
    "\n",
    "Tips: If you are not sure which optimizer to use, try Adam first!"
   ]
  },
  {
   "cell_type": "code",
   "execution_count": 45,
   "metadata": {
    "id": "faQUrxhNgm0l",
    "pycharm": {
     "name": "#%%\n"
    }
   },
   "outputs": [],
   "source": [
    "import torch.optim as optim\n",
    "\n",
    "criterion = nn.CrossEntropyLoss()\n",
    "optimizer = optim.Adam(net.parameters(), lr=0.001)"
   ]
  },
  {
   "cell_type": "markdown",
   "metadata": {
    "collapsed": false,
    "id": "k9olMCi8gm0l",
    "jupyter": {
     "outputs_hidden": false
    },
    "pycharm": {
     "name": "#%% md\n"
    }
   },
   "source": [
    "### 4. Train the network\n",
    "\n",
    "This is when things start to get interesting.\n",
    "We simply have to loop over our data iterator, and feed the inputs to the\n",
    "network and optimize.\n",
    "\n"
   ]
  },
  {
   "cell_type": "code",
   "execution_count": 37,
   "metadata": {
    "id": "Ww2I3_5egm0l",
    "pycharm": {
     "name": "#%%\n"
    }
   },
   "outputs": [
    {
     "name": "stdout",
     "output_type": "stream",
     "text": [
      "[1,   200] loss: 1.734\n",
      "[2,   200] loss: 1.446\n",
      "[3,   200] loss: 1.352\n",
      "[4,   200] loss: 1.263\n",
      "[5,   200] loss: 1.211\n",
      "[6,   200] loss: 1.142\n",
      "[7,   200] loss: 1.048\n",
      "[8,   200] loss: 1.010\n",
      "[9,   200] loss: 0.966\n",
      "[10,   200] loss: 0.892\n"
     ]
    }
   ],
   "source": [
    "for epoch in range(10):  # loop over the dataset multiple times\n",
    "\n",
    "    running_loss = 0.0\n",
    "    for i, data in enumerate(trainloader, 0):\n",
    "\n",
    "        # get the inputs; data is a list of [inputs, labels]\n",
    "        inputs, labels = data[0].cuda(), data[1].cuda()  # Note that we should also put data and label to GPU to accelerate training\n",
    "\n",
    "        # zero the parameter gradients\n",
    "        optimizer.zero_grad()\n",
    "\n",
    "        # forward + backward + optimize\n",
    "        outputs = net(inputs)\n",
    "        loss = criterion(outputs, labels)\n",
    "        loss.backward()\n",
    "        optimizer.step()\n",
    "\n",
    "        # print statistics\n",
    "        running_loss += loss.item()\n",
    "        if i % 200 == 199:\n",
    "            print(f'[{epoch + 1}, {i + 1:5d}] loss: {running_loss / 200:.3f}')\n",
    "            running_loss = 0.0"
   ]
  },
  {
   "cell_type": "markdown",
   "metadata": {
    "collapsed": false,
    "id": "RrDurkMvgm0l",
    "jupyter": {
     "outputs_hidden": false
    },
    "pycharm": {
     "name": "#%% md\n"
    }
   },
   "source": [
    "Let's quickly save our trained model:\n",
    "\n"
   ]
  },
  {
   "cell_type": "code",
   "execution_count": 39,
   "metadata": {
    "id": "IYL6GpGygm0l",
    "pycharm": {
     "name": "#%%\n"
    }
   },
   "outputs": [],
   "source": [
    "PATH = './cifar_net.pth'\n",
    "torch.save(net.state_dict(), PATH)"
   ]
  },
  {
   "cell_type": "markdown",
   "metadata": {
    "collapsed": false,
    "id": "JYqGTp8Bgm0l",
    "jupyter": {
     "outputs_hidden": false
    },
    "pycharm": {
     "name": "#%% md\n"
    }
   },
   "source": [
    "See [here](https://pytorch.org/docs/stable/notes/serialization.html)\n",
    "for more details on saving PyTorch models.\n",
    "\n",
    "### 5. Test the network on the test data\n",
    "\n",
    "We have trained the network for 2 passes over the training dataset.\n",
    "But we need to check if the network has learnt anything at all.\n",
    "\n",
    "We will check this by predicting the class label that the neural network\n",
    "outputs, and checking it against the ground-truth. If the prediction is\n",
    "correct, we add the sample to the list of correct predictions.\n",
    "\n",
    "Okay, first step. Let us display images from the test set to get familiar.\n",
    "\n"
   ]
  },
  {
   "cell_type": "code",
   "execution_count": 50,
   "metadata": {
    "id": "9Y0S70SJgm0l",
    "pycharm": {
     "name": "#%%\n"
    }
   },
   "outputs": [
    {
     "data": {
      "image/png": "[encoded data removed]",
      "text/plain": [
       "<Figure size 640x480 with 1 Axes>"
      ]
     },
     "metadata": {},
     "output_type": "display_data"
    },
    {
     "name": "stdout",
     "output_type": "stream",
     "text": [
      "GroundTruth:  cat   ship  frog  car   cat  \n"
     ]
    }
   ],
   "source": [
    "dataiter = iter(testloader)\n",
    "images, labels = next(dataiter)\n",
    "\n",
    "# print images\n",
    "imshow(torchvision.utils.make_grid(images[:10]))\n",
    "print('GroundTruth: ', ' '.join(f'{classes[labels[j]]:5s}' for j in range(0,10,2)))"
   ]
  },
  {
   "cell_type": "markdown",
   "metadata": {
    "collapsed": false,
    "id": "OKBHLhqcgm0l",
    "jupyter": {
     "outputs_hidden": false
    },
    "pycharm": {
     "name": "#%% md\n"
    }
   },
   "source": [
    "Next, let's load back in our saved model (note: saving and re-loading the model\n",
    "wasn't necessary here, we only did it to illustrate how to do so):\n",
    "\n"
   ]
  },
  {
   "cell_type": "code",
   "execution_count": 51,
   "metadata": {
    "id": "zxDANMWDgm0l",
    "pycharm": {
     "name": "#%%\n"
    }
   },
   "outputs": [
    {
     "data": {
      "text/plain": [
       "<All keys matched successfully>"
      ]
     },
     "execution_count": 51,
     "metadata": {},
     "output_type": "execute_result"
    }
   ],
   "source": [
    "net = Net()\n",
    "net.load_state_dict(torch.load(PATH))"
   ]
  },
  {
   "cell_type": "markdown",
   "metadata": {
    "collapsed": false,
    "id": "stQLKI6egm0l",
    "jupyter": {
     "outputs_hidden": false
    },
    "pycharm": {
     "name": "#%% md\n"
    }
   },
   "source": [
    "Okay, now let us see what the neural network thinks these examples above are:\n",
    "\n"
   ]
  },
  {
   "cell_type": "code",
   "execution_count": 47,
   "metadata": {
    "id": "wwZjbSlhgm0l",
    "pycharm": {
     "name": "#%%\n"
    }
   },
   "outputs": [
    {
     "name": "stdout",
     "output_type": "stream",
     "text": [
      "outputs.shape: torch.Size([128, 10])\n",
      "outputs:\n",
      " tensor([[ -1.2914,  -1.7119,   0.5643,  ..., -11.9130,   0.6548,  -6.7272],\n",
      "        [  1.9138,   1.1130,  -1.7056,  ...,  -1.0368,   5.5242,   3.8265],\n",
      "        [  5.4223,  -1.0100,   0.1270,  ...,  -0.3663,   4.2242,   1.7441],\n",
      "        ...,\n",
      "        [ -0.5087,   2.5685,   0.5508,  ...,  -5.5557,  -2.6421,   1.9710],\n",
      "        [  2.3800,  -1.9048,  -0.5566,  ...,  -2.2064,   2.1177,   0.4375],\n",
      "        [ -4.4362,  -8.1969,  -1.2763,  ...,  -2.3327,  -2.9021,  -0.2988]],\n",
      "       grad_fn=<AddmmBackward0>)\n"
     ]
    }
   ],
   "source": [
    "outputs = net(images)\n",
    "print(\"outputs.shape:\", outputs.shape)\n",
    "print(\"outputs:\\n\", outputs)"
   ]
  },
  {
   "cell_type": "markdown",
   "metadata": {
    "collapsed": false,
    "id": "FMHriZjggm0l",
    "jupyter": {
     "outputs_hidden": false
    },
    "pycharm": {
     "name": "#%% md\n"
    }
   },
   "source": [
    "The outputs are energies for the 10 classes.\n",
    "The higher the energy for a class, the more the network\n",
    "thinks that the image is of the particular class.\n",
    "So, let's get the index of the highest energy:\n",
    "\n"
   ]
  },
  {
   "cell_type": "code",
   "execution_count": 52,
   "metadata": {
    "id": "UI0q4Cr0gm0l",
    "pycharm": {
     "name": "#%%\n"
    }
   },
   "outputs": [
    {
     "name": "stdout",
     "output_type": "stream",
     "text": [
      "Predicted:  cat   plane deer  car   cat  \n"
     ]
    }
   ],
   "source": [
    "_, predicted = torch.max(outputs, 1)\n",
    "\n",
    "print('Predicted: ', ' '.join(f'{classes[predicted[j]]:5s}'\n",
    "                              for j in range(0,10,2)))"
   ]
  },
  {
   "cell_type": "markdown",
   "metadata": {
    "collapsed": false,
    "id": "gr1GE-r_gm0l",
    "jupyter": {
     "outputs_hidden": false
    },
    "pycharm": {
     "name": "#%% md\n"
    }
   },
   "source": [
    "The results seem ok.\n",
    "\n",
    "Let us look at how the network performs on the whole dataset.\n",
    "\n"
   ]
  },
  {
   "cell_type": "code",
   "execution_count": 53,
   "metadata": {
    "id": "38cRY_kwgm0l",
    "pycharm": {
     "name": "#%%\n"
    }
   },
   "outputs": [
    {
     "name": "stdout",
     "output_type": "stream",
     "text": [
      "Accuracy of the network on the 10000 test images: 52 %\n"
     ]
    }
   ],
   "source": [
    "correct = 0\n",
    "total = 0\n",
    "# since we're not training, we don't need to calculate the gradients for our outputs\n",
    "with torch.no_grad():\n",
    "    for data in testloader:\n",
    "        images, labels = data[0], data[1]\n",
    "        # calculate outputs by running images through the network\n",
    "        outputs = net(images)\n",
    "        # the class with the highest energy is what we choose as prediction\n",
    "        _, predicted = torch.max(outputs.data, 1)\n",
    "        total += labels.size(0)\n",
    "        correct += (predicted == labels).sum().item()\n",
    "\n",
    "print(f'Accuracy of the network on the 10000 test images: {100 * correct // total} %')"
   ]
  },
  {
   "cell_type": "markdown",
   "metadata": {
    "collapsed": false,
    "id": "7YnB_XPugm0l",
    "jupyter": {
     "outputs_hidden": false
    },
    "pycharm": {
     "name": "#%% md\n"
    }
   },
   "source": [
    "That looks **way better than chance**, which is 10% accuracy (randomly picking\n",
    "a class out of 10 classes).\n",
    "That means the network have already learnt something with this small period of training.\n",
    "\n",
    "Hmmm, what are the classes that performed well, and the classes that did\n",
    "not perform well:\n",
    "\n"
   ]
  },
  {
   "cell_type": "code",
   "execution_count": 54,
   "metadata": {
    "id": "4Y20mYXGgm0l",
    "pycharm": {
     "name": "#%%\n"
    }
   },
   "outputs": [
    {
     "name": "stdout",
     "output_type": "stream",
     "text": [
      "Accuracy for class: plane is 62.8 %\n",
      "Accuracy for class: car   is 60.1 %\n",
      "Accuracy for class: bird  is 34.6 %\n",
      "Accuracy for class: cat   is 28.4 %\n",
      "Accuracy for class: deer  is 54.3 %\n",
      "Accuracy for class: dog   is 47.0 %\n",
      "Accuracy for class: frog  is 53.6 %\n",
      "Accuracy for class: horse is 58.4 %\n",
      "Accuracy for class: ship  is 70.3 %\n",
      "Accuracy for class: truck is 58.5 %\n"
     ]
    }
   ],
   "source": [
    "# prepare to count predictions for each class\n",
    "correct_pred = {classname: 0 for classname in classes}\n",
    "total_pred = {classname: 0 for classname in classes}\n",
    "\n",
    "# again no gradients needed\n",
    "with torch.no_grad():\n",
    "    for data in testloader:\n",
    "        images, labels = data\n",
    "        outputs = net(images)\n",
    "        _, predictions = torch.max(outputs, 1)\n",
    "        # collect the correct predictions for each class\n",
    "        for label, prediction in zip(labels, predictions):\n",
    "            if label == prediction:\n",
    "                correct_pred[classes[label]] += 1\n",
    "            total_pred[classes[label]] += 1\n",
    "\n",
    "\n",
    "# print accuracy for each class\n",
    "for classname, correct_count in correct_pred.items():\n",
    "    accuracy = 100 * float(correct_count) / total_pred[classname]\n",
    "    print(f'Accuracy for class: {classname:5s} is {accuracy:.1f} %')"
   ]
  },
  {
   "cell_type": "markdown",
   "metadata": {
    "collapsed": false,
    "id": "Gvh8EXt-gm0l",
    "jupyter": {
     "outputs_hidden": false
    },
    "pycharm": {
     "name": "#%% md\n"
    }
   },
   "source": [
    "Okay, so what next?\n",
    "\n",
    "## Exercise: Build a more powerful neural network\n",
    "\n",
    "The previous example is a basic proof of concept of how we can use pytorch to build neural networks. Now it's your turn to build a more powerful neural network!\n",
    "\n",
    "### ResNet\n",
    "ResNet is a deep convolutional neural network, uses residual connections to address vanishing gradients and performance degradation in deep networks.\n",
    "\n",
    "Simply put, the core idea of ResNet is a so called \"skip\" connection:\n",
    "\n",
    "\\begin{align}\\text{without skip}&: y=f(x) \\\\ \\text{with skip}&: y=f(x)+x\\end{align}\n",
    "\n",
    "A ResNet is typically consists of 3 parts: \n",
    "1. The first part uses one convolutional layer to project the input images into a feature space.\n",
    "2. The second part consists of multiple blocks for feature processing.\n",
    "3. The third part performs a spatial pooling and converts the feature into classification results.\n",
    "The building block of the second part is the key of ResNet, which is achieved by BasicBlock class.\n",
    "\n",
    "### Your task: \n",
    "Finish the BasicBlock class and perform training & evaluation using your ResNet. Compare how it performs with the previous vannila neural network."
   ]
  },
  {
   "cell_type": "code",
   "execution_count": null,
   "metadata": {
    "id": "htHHt8Aegm0m",
    "pycharm": {
     "name": "#%%\n"
    }
   },
   "outputs": [],
   "source": [
    "class BasicBlock(nn.Module):\n",
    "    def __init__(self, dim):\n",
    "        super().__init__()\n",
    "        # TODO\n",
    "        self.conv1 = nn.Conv2d(dim, dim, kernel_size=3, padding=1)\n",
    "        self.bn1 = nn.BatchNorm2d(dim)\n",
    "        self.conv2 = nn.Conv2d(dim, dim, kernel_size=3, padding=1)\n",
    "        self.bn2 = nn.BatchNorm2d(dim)\n",
    "\n",
    "    def forward(self, x):\n",
    "        # TODO\n",
    "        out = F.relu(self.bn1(self.conv1(x)))\n",
    "        out = self.bn2(self.conv2(out))\n",
    "        out += x\n",
    "        out = F.relu(out)\n",
    "        return out"
   ]
  },
  {
   "cell_type": "code",
   "execution_count": null,
   "metadata": {
    "id": "5hjPaIRLgm0m",
    "pycharm": {
     "name": "#%%\n"
    }
   },
   "outputs": [],
   "source": [
    "class ResNet(nn.Module):\n",
    "    def __init__(self, n_blocks, num_classes=10):\n",
    "        super().__init__()\n",
    "        self.conv1 = nn.Conv2d(3, 32, kernel_size=3, padding=1)\n",
    "        self.bn1 = nn.BatchNorm2d(32)\n",
    "        self.blocks = nn.Sequential(*[\n",
    "            BasicBlock(dim=32) for _ in range(n_blocks)\n",
    "        ])\n",
    "        self.linear = nn.Linear(32, num_classes)\n",
    "\n",
    "    def forward(self, x):\n",
    "        out = F.relu(self.bn1(self.conv1(x)))\n",
    "        out = self.blocks(out)\n",
    "        out = F.avg_pool2d(out, 32)\n",
    "        out = out.view(out.size(0), -1)\n",
    "        out = self.linear(out)\n",
    "        return out\n",
    "\n",
    "net = ResNet(n_blocks=6).cuda()\n"
   ]
  },
  {
   "cell_type": "markdown",
   "metadata": {
    "collapsed": false,
    "id": "xRq47KF0gm0m",
    "jupyter": {
     "outputs_hidden": false
    },
    "pycharm": {
     "name": "#%% md\n"
    }
   },
   "source": [
    "Then, it's time to train & test the performance of your neural network! "
   ]
  },
  {
   "cell_type": "code",
   "execution_count": null,
   "metadata": {
    "id": "1cJnwICigm0m",
    "pycharm": {
     "name": "#%%\n"
    }
   },
   "outputs": [],
   "source": [
    "criterion = nn.CrossEntropyLoss()\n",
    "optimizer = optim.Adam(net.parameters(), lr=0.001)\n",
    "\n",
    "for epoch in range(10):  # loop over the dataset multiple times\n",
    "\n",
    "    running_loss = 0.0\n",
    "    for i, data in enumerate(trainloader, 0):\n",
    "\n",
    "        # get the inputs; data is a list of [inputs, labels]\n",
    "        inputs, labels = data[0].cuda(), data[1].cuda()\n",
    "\n",
    "        # zero the parameter gradients\n",
    "        optimizer.zero_grad()\n",
    "\n",
    "        # forward + backward + optimize\n",
    "        outputs = net(inputs)\n",
    "        loss = criterion(outputs, labels)\n",
    "        loss.backward()\n",
    "        optimizer.step()\n",
    "\n",
    "        # print statistics\n",
    "        running_loss += loss.item()\n",
    "        if i % 200 == 199:\n",
    "            print(f'[{epoch + 1}, {i + 1:5d}] loss: {running_loss / 200:.3f}')\n",
    "            running_loss = 0.0\n",
    "\n",
    "correct = 0\n",
    "total = 0\n",
    "net.eval()\n",
    "# since we're not training, we don't need to calculate the gradients for our outputs\n",
    "with torch.no_grad():\n",
    "    for data in testloader:\n",
    "        images, labels = data[0].cuda(), data[1].cuda()\n",
    "        # calculate outputs by running images through the network\n",
    "        outputs = net(images)\n",
    "        # the class with the highest energy is what we choose as prediction\n",
    "        _, predicted = torch.max(outputs.data, 1)\n",
    "        total += labels.size(0)\n",
    "        correct += (predicted == labels).sum().item()\n",
    "\n",
    "print(f'Accuracy of the network on the 10000 test images: {100 * correct // total} %')"
   ]
  },
  {
   "cell_type": "markdown",
   "metadata": {
    "collapsed": false,
    "id": "B-ciZFXKgm0m",
    "jupyter": {
     "outputs_hidden": false
    },
    "pycharm": {
     "name": "#%% md\n"
    }
   },
   "source": [
    "### Your task 2: \n",
    "Load CIFAR100 dataset in torchvision by yourself, then perform train & eval on CIFAR100 dataset.\n",
    "\n",
    "**Note:**The network and optimizer should be re-initialized before training on CIFAR100. \n"
   ]
  },
  {
   "cell_type": "markdown",
   "metadata": {
    "collapsed": false,
    "id": "gWgzT23mgm0m",
    "jupyter": {
     "outputs_hidden": false
    },
    "pycharm": {
     "name": "#%% md\n"
    }
   },
   "source": [
    "\n",
    "# A Gentle Introduction to ``torch.autograd``\n",
    "\n",
    "``torch.autograd`` is PyTorch’s automatic differentiation engine that powers\n",
    "neural network training. In this section, you will get a basic sense of how ``autograd`` collects gradients.\n"
   ]
  },
  {
   "cell_type": "markdown",
   "metadata": {
    "collapsed": false,
    "id": "fwpmS_Uhgm0m",
    "jupyter": {
     "outputs_hidden": false
    },
    "pycharm": {
     "name": "#%% md\n"
    }
   },
   "source": [
    "In homework 8, you have encountered some matrix calculus equations. For example:\n",
    "\n",
    "\\begin{align}&\\frac{\\partial}{\\partial{X}}\\mathrm{\\text{Tr}}((Y-CX)^T(Y-CX))=-2 C^T (Y-CX)\\end{align}\n",
    "\n",
    "Now, let's see how we can perform this gradient calculation using pytorch's autograd mechanics (**without** the need of knowing the explicit formula of the gradient).\n",
    "\n",
    "\n"
   ]
  },
  {
   "cell_type": "markdown",
   "metadata": {
    "collapsed": false,
    "id": "cLZN_fj3gm0m",
    "jupyter": {
     "outputs_hidden": false
    },
    "pycharm": {
     "name": "#%% md\n"
    }
   },
   "source": [
    "We first create the matrix ``X``, ``C`` and ``Y``. Note that we pass ``requires_grad=True`` when creating matrix ``X``. This signals to ``autograd`` that every operation on them should be tracked."
   ]
  },
  {
   "cell_type": "code",
   "execution_count": 55,
   "metadata": {
    "id": "ISM7cSAUgm0m",
    "pycharm": {
     "name": "#%%\n"
    }
   },
   "outputs": [],
   "source": [
    "import torch\n",
    "X = torch.randn(4, 4, requires_grad=True)\n",
    "C = torch.randn(4, 4)\n",
    "Y = torch.randn(4, 4)"
   ]
  },
  {
   "cell_type": "code",
   "execution_count": 56,
   "metadata": {
    "id": "zTGF81KEgm0m",
    "pycharm": {
     "name": "#%%\n"
    }
   },
   "outputs": [
    {
     "name": "stdout",
     "output_type": "stream",
     "text": [
      "expected gradient on X:\n",
      " tensor([[  2.6318,   8.1071,  -1.7381,  -1.4628],\n",
      "        [  0.7210,  25.6474, -12.6246, -19.1623],\n",
      "        [  0.2212,  -9.9200,   2.4204,   9.9983],\n",
      "        [ -5.0345,  -7.3514,   2.1136,  -1.9326]], grad_fn=<MmBackward0>)\n",
      "autograd calculated gradient on X:\n",
      " tensor([[  2.6318,   8.1071,  -1.7381,  -1.4628],\n",
      "        [  0.7210,  25.6474, -12.6246, -19.1623],\n",
      "        [  0.2212,  -9.9200,   2.4204,   9.9983],\n",
      "        [ -5.0345,  -7.3514,   2.1136,  -1.9326]])\n"
     ]
    }
   ],
   "source": [
    "print('expected gradient on X:\\n', -2 * C.T @ (Y - C @ X))\n",
    "# calculate the result\n",
    "Q=torch.trace((Y-C @ X).T @ (Y-C.matmul(X)))\n",
    "# perform back-propagation\n",
    "Q.backward()\n",
    "print('autograd calculated gradient on X:\\n', X.grad)  # the gradients on X are stored in X.grad "
   ]
  },
  {
   "cell_type": "markdown",
   "metadata": {
    "collapsed": false,
    "id": "WssHr9nNgm0m",
    "jupyter": {
     "outputs_hidden": false
    },
    "pycharm": {
     "name": "#%% md\n"
    }
   },
   "source": [
    "Nice! The gradient calculated by autograd is the same as our analytical solution!\n",
    "\n",
    "Now, let's re-execute the cell and see what happens!"
   ]
  },
  {
   "cell_type": "code",
   "execution_count": 57,
   "metadata": {
    "id": "Ow9x1yDXgm0m",
    "pycharm": {
     "name": "#%%\n"
    }
   },
   "outputs": [
    {
     "name": "stdout",
     "output_type": "stream",
     "text": [
      "expected gradient on X:\n",
      " tensor([[  2.6318,   8.1071,  -1.7381,  -1.4628],\n",
      "        [  0.7210,  25.6474, -12.6246, -19.1623],\n",
      "        [  0.2212,  -9.9200,   2.4204,   9.9983],\n",
      "        [ -5.0345,  -7.3514,   2.1136,  -1.9326]], grad_fn=<MmBackward0>)\n",
      "autograd calculated gradient on X:\n",
      " tensor([[  5.2636,  16.2141,  -3.4761,  -2.9257],\n",
      "        [  1.4420,  51.2949, -25.2492, -38.3247],\n",
      "        [  0.4423, -19.8400,   4.8408,  19.9966],\n",
      "        [-10.0690, -14.7027,   4.2272,  -3.8651]])\n"
     ]
    }
   ],
   "source": [
    "print('expected gradient on X:\\n', -2 * C.T @ (Y - C @ X))\n",
    "# calculate the result\n",
    "Q=torch.trace((Y-C @ X).T @ (Y-C.matmul(X)))\n",
    "# perform back-propagation\n",
    "Q.backward()\n",
    "print('autograd calculated gradient on X:\\n', X.grad)"
   ]
  },
  {
   "cell_type": "markdown",
   "metadata": {
    "collapsed": false,
    "id": "dmKOvEcogm0m",
    "jupyter": {
     "outputs_hidden": false
    },
    "pycharm": {
     "name": "#%% md\n"
    }
   },
   "source": [
    "Why in this time the autograd calculated gradient is not the same as our analytical result? This is because every time ``backward()`` function is called, gradients calculated by autograd are **accumulated** into ``X.grad``. \n",
    "\n",
    "As a result, if we are only interested in the gradients for current operations, we must first clear previously stored gradients:"
   ]
  },
  {
   "cell_type": "code",
   "execution_count": 58,
   "metadata": {
    "id": "ouE50dBXgm0m",
    "pycharm": {
     "name": "#%%\n"
    }
   },
   "outputs": [
    {
     "name": "stdout",
     "output_type": "stream",
     "text": [
      "expected gradient on X:\n",
      " tensor([[  2.6318,   8.1071,  -1.7381,  -1.4628],\n",
      "        [  0.7210,  25.6474, -12.6246, -19.1623],\n",
      "        [  0.2212,  -9.9200,   2.4204,   9.9983],\n",
      "        [ -5.0345,  -7.3514,   2.1136,  -1.9326]], grad_fn=<MmBackward0>)\n",
      "autograd calculated gradient on X:\n",
      " tensor([[  2.6318,   8.1071,  -1.7381,  -1.4628],\n",
      "        [  0.7210,  25.6474, -12.6246, -19.1623],\n",
      "        [  0.2212,  -9.9200,   2.4204,   9.9983],\n",
      "        [ -5.0345,  -7.3514,   2.1136,  -1.9326]])\n"
     ]
    }
   ],
   "source": [
    "print('expected gradient on X:\\n', -2 * C.T @ (Y - C @ X))\n",
    "Q=torch.trace((Y-C @ X).T @ (Y-C.matmul(X)))\n",
    "X.grad.zero_()  # Important! Clear the previously stored gradients\n",
    "Q.backward()\n",
    "print('autograd calculated gradient on X:\\n', X.grad)"
   ]
  },
  {
   "cell_type": "markdown",
   "metadata": {
    "collapsed": false,
    "id": "0BMvkW-3gm0m",
    "jupyter": {
     "outputs_hidden": false
    },
    "pycharm": {
     "name": "#%% md\n"
    }
   },
   "source": [
    "Works as we expected again!\n",
    "\n",
    "Therefore, when performing neural network training, we will use ``zero_grad`` of optimizer to clear the gradient before performing gradient update."
   ]
  },
  {
   "cell_type": "code",
   "execution_count": 59,
   "metadata": {
    "id": "ULqtxrmAKE_e",
    "outputId": "02b62211-4a7d-44a9-fb78-7cac06edf275",
    "pycharm": {
     "name": "#%%\n"
    }
   },
   "outputs": [
    {
     "name": "stdout",
     "output_type": "stream",
     "text": [
      "theta_1 before gradient descent:\n",
      " tensor([[-1.5423,  1.4465, -0.3834,  ..., -0.4386, -1.7452,  0.0123],\n",
      "        [ 0.9062, -0.2968, -0.4812,  ...,  0.0207,  0.8733,  0.1606],\n",
      "        [ 1.0232, -0.6320,  0.5400,  ...,  0.4196, -0.5734,  0.6175],\n",
      "        ...,\n",
      "        [-1.8595, -0.3787,  0.4658,  ...,  1.0004, -1.0159, -0.6922],\n",
      "        [ 0.6263,  0.4173, -1.1148,  ...,  0.1119, -0.7340,  0.2310],\n",
      "        [-0.5686, -0.3389,  0.5553,  ...,  2.5382,  1.3604,  0.4751]])\n",
      "theta_1 after gradient descent:\n",
      " tensor([[-1.5423,  1.4465, -0.3834,  ..., -0.4386, -1.7452,  0.0123],\n",
      "        [ 0.9062, -0.2968, -0.4812,  ...,  0.0207,  0.8733,  0.1606],\n",
      "        [ 1.0232, -0.6320,  0.5400,  ...,  0.4196, -0.5734,  0.6175],\n",
      "        ...,\n",
      "        [-1.8595, -0.3787,  0.4658,  ...,  1.0004, -1.0159, -0.6922],\n",
      "        [ 0.6263,  0.4173, -1.1148,  ...,  0.1119, -0.7340,  0.2310],\n",
      "        [-0.5686, -0.3389,  0.5553,  ...,  2.5382,  1.3604,  0.4751]],\n",
      "       requires_grad=True)\n"
     ]
    }
   ],
   "source": [
    "import torch.optim as optim\n",
    "optimizer = optim.SGD([theta1, theta2], lr=0.01)\n",
    "\n",
    "theta1_orig = theta1.clone().detach()  # record the parameters before gradient descent, we use theta_1 as an example\n",
    "optimizer.step()  # perform gradient descent\n",
    "print('theta_1 before gradient descent:\\n', theta1_orig)\n",
    "print('theta_1 after gradient descent:\\n', theta1)"
   ]
  },
  {
   "cell_type": "markdown",
   "metadata": {
    "id": "FjsSmKN2gm0n"
   },
   "source": [
    "The parameters have already been updated by `optimizer.step`.\n",
    "We can verify this gradient descent step is equal as our learned formulation:\n",
    "\n",
    "$$\n",
    "\\theta_1\\leftarrow \\theta_1 - \\alpha \\cdot \\frac{\\partial J}{\\partial \\theta_1}\n",
    "$$"
   ]
  },
  {
   "cell_type": "code",
   "execution_count": 60,
   "metadata": {
    "id": "FQtQeVXhgm0n",
    "outputId": "571aab92-87dd-468b-d850-8ef6312b6aaf"
   },
   "outputs": [
    {
     "name": "stdout",
     "output_type": "stream",
     "text": [
      "theta_1 after gradient descent (analytical):\n",
      " tensor([[-1.5423,  1.4465, -0.3834,  ..., -0.4386, -1.7452,  0.0123],\n",
      "        [ 0.9062, -0.2968, -0.4812,  ...,  0.0207,  0.8733,  0.1606],\n",
      "        [ 1.0232, -0.6320,  0.5400,  ...,  0.4196, -0.5734,  0.6175],\n",
      "        ...,\n",
      "        [-1.8595, -0.3787,  0.4658,  ...,  1.0004, -1.0159, -0.6922],\n",
      "        [ 0.6263,  0.4173, -1.1148,  ...,  0.1119, -0.7340,  0.2310],\n",
      "        [-0.5686, -0.3389,  0.5553,  ...,  2.5382,  1.3604,  0.4751]])\n",
      "theta_1 after gradient descent (analytical) - theta_1 after gradient descent (PyTorch):\n",
      " tensor([[0., 0., 0.,  ..., 0., 0., 0.],\n",
      "        [0., 0., 0.,  ..., 0., 0., 0.],\n",
      "        [0., 0., 0.,  ..., 0., 0., 0.],\n",
      "        ...,\n",
      "        [0., 0., 0.,  ..., 0., 0., 0.],\n",
      "        [0., 0., 0.,  ..., 0., 0., 0.],\n",
      "        [0., 0., 0.,  ..., 0., 0., 0.]], grad_fn=<SubBackward0>)\n"
     ]
    }
   ],
   "source": [
    "theta1_new_analytical = theta1_orig - 0.01 * theta1.grad\n",
    "print('theta_1 after gradient descent (analytical):\\n', theta1_new_analytical)\n",
    "print('theta_1 after gradient descent (analytical) - theta_1 after gradient descent (PyTorch):\\n', theta1_new_analytical - theta1)"
   ]
  },
  {
   "cell_type": "markdown",
   "metadata": {
    "id": "r1SqWVsIJ3UX",
    "pycharm": {
     "name": "#%% md\n"
    }
   },
   "source": [
    "## Training Loop\n",
    "Now, let's perform training on this toy dataset by repeating the above forward & backward & gradient descent pipeline for 10000 times and see how the neural network learns. "
   ]
  },
  {
   "cell_type": "code",
   "execution_count": null,
   "metadata": {
    "colab": {
     "base_uri": "https://localhost:8080/",
     "height": 450
    },
    "id": "KtXvfz1byfZb",
    "outputId": "5eccb007-ddfe-4e6e-e9b4-640a2a12e0f2",
    "pycharm": {
     "name": "#%%\n"
    }
   },
   "outputs": [
    {
     "data": {
      "image/png": "[encoded data removed]",
      "text/plain": [
       "<Figure size 640x480 with 2 Axes>"
      ]
     },
     "metadata": {},
     "output_type": "display_data"
    }
   ],
   "source": [
    "# Training\n",
    "loss_list = []\n",
    "accuracy_list = []\n",
    "for t in range(10000):\n",
    "    optimizer.zero_grad()\n",
    "    # Forward\n",
    "    h = torch.sigmoid(x_train.matmul(theta1))\n",
    "    y_pred = torch.sigmoid(h.matmul(theta2))\n",
    "    \n",
    "    # Calculate loss\n",
    "    loss = torch.mean(-(1 - y_train) * torch.log(1 - y_pred) - y_train * torch.log(y_pred))\n",
    "    loss_list.append(loss.item())\n",
    "\n",
    "    # Test accuracy\n",
    "    with torch.no_grad():\n",
    "        h_test = torch.sigmoid(x_test.matmul(theta1))\n",
    "        y_pred_test = torch.sigmoid(h_test.matmul(theta2))\n",
    "        accuracy = torch.mean(((y_pred_test > 0.5) == y_test).float()).item() * 100.0\n",
    "        accuracy_list.append(accuracy)\n",
    "    \n",
    "    # Backward\n",
    "    loss.backward()\n",
    "    \n",
    "    # Update weights with gradient descent\n",
    "    optimizer.step()\n",
    "    \n",
    "# Plot\n",
    "fig, ax1 = plt.subplots()\n",
    "ax1.set_xlabel(\"training steps\")\n",
    "ax1.set_ylabel(\"training loss\")\n",
    "loss_curve = ax1.plot(range(len(loss_list)), loss_list, label=\"training loss\", color=\"tab:blue\")\n",
    "\n",
    "ax2 = ax1.twinx()\n",
    "ax2.set_ylabel(\"test accuracy (%)\")\n",
    "accuracy_curve = ax2.plot(range(len(accuracy_list)), accuracy_list, label=\"test accuracy\", color=\"tab:orange\")\n",
    "\n",
    "curves = loss_curve + accuracy_curve\n",
    "labels = [c.get_label() for c in curves]\n",
    "ax1.legend(curves, labels, loc=\"center right\")\n",
    "\n",
    "plt.show()\n"
   ]
  },
  {
   "cell_type": "markdown",
   "metadata": {
    "id": "M4f3bSAA1eyC",
    "pycharm": {
     "name": "#%% md\n"
    }
   },
   "source": [
    "\n",
    "# Training a Classifier\n",
    "\n",
    "\n",
    "## Data Preparation\n",
    "\n",
    "Generally, when you have to deal with image, text, audio or video data,\n",
    "you can use standard python packages that load data into a numpy array.\n",
    "Then you can convert this array into a ``torch.*Tensor``.\n",
    "\n",
    "Specifically for vision, we have created a package called\n",
    "``torchvision``, that has data loaders for common datasets such as\n",
    "ImageNet, CIFAR10, MNIST, etc. and data transformers for images, viz.,\n",
    "``torchvision.datasets`` and ``torch.utils.data.DataLoader``.\n",
    "\n",
    "This provides a huge convenience and avoids writing boilerplate code.\n",
    "\n",
    "For this tutorial, we will use the CIFAR10 dataset.\n",
    "It has the classes: ‘airplane’, ‘automobile’, ‘bird’, ‘cat’, ‘deer’,\n",
    "‘dog’, ‘frog’, ‘horse’, ‘ship’, ‘truck’. The images in CIFAR-10 are of\n",
    "size 3x32x32, i.e. 3-channel color images of 32x32 pixels in size.\n",
    "\n",
    "## Training an image classifier\n",
    "\n",
    "We will do the following steps in order:\n",
    "\n",
    "1. Load and normalize the CIFAR10 training and test datasets using\n",
    "   ``torchvision``\n",
    "2. Define a Neural Network\n",
    "3. Define a loss function\n",
    "4. Train the network on the training data\n",
    "5. Test the network on the test data\n",
    "\n",
    "### 1. Load and normalize CIFAR10\n",
    "\n",
    "Using ``torchvision``, it’s extremely easy to load CIFAR10.\n"
   ]
  },
  {
   "cell_type": "code",
   "execution_count": null,
   "metadata": {
    "id": "H9m_Wj1r1eyD",
    "pycharm": {
     "name": "#%%\n"
    }
   },
   "outputs": [],
   "source": [
    "import torchvision\n",
    "import torchvision.transforms as transforms"
   ]
  },
  {
   "cell_type": "markdown",
   "metadata": {
    "id": "jTSsPfYI1eyE",
    "pycharm": {
     "name": "#%% md\n"
    }
   },
   "source": [
    "The output of torchvision datasets are PILImage images of range [0, 1].\n",
    "We transform them to Tensors of normalized range [-1, 1].\n",
    "\n"
   ]
  },
  {
   "cell_type": "code",
   "execution_count": null,
   "metadata": {
    "colab": {
     "base_uri": "https://localhost:8080/"
    },
    "id": "t-4mVR4v1eyE",
    "outputId": "d7c18148-1efb-4444-9571-7b638c98ddb9",
    "pycharm": {
     "name": "#%%\n"
    }
   },
   "outputs": [
    {
     "name": "stdout",
     "output_type": "stream",
     "text": [
      "Downloading https://www.cs.toronto.edu/~kriz/cifar-10-python.tar.gz to ./data/cifar-10-python.tar.gz\n"
     ]
    },
    {
     "name": "stderr",
     "output_type": "stream",
     "text": [
      "100%|██████████| 170498071/170498071 [00:06<00:00, 28383578.52it/s]\n"
     ]
    },
    {
     "name": "stdout",
     "output_type": "stream",
     "text": [
      "Extracting ./data/cifar-10-python.tar.gz to ./data\n"
     ]
    },
    {
     "name": "stderr",
     "output_type": "stream",
     "text": [
      "/usr/local/lib/python3.9/dist-packages/torch/utils/data/dataloader.py:561: UserWarning: This DataLoader will create 4 worker processes in total. Our suggested max number of worker in current system is 2, which is smaller than what this DataLoader is going to create. Please be aware that excessive worker creation might get DataLoader running slow or even freeze, lower the worker number to avoid potential slowness/freeze if necessary.\n",
      "  warnings.warn(_create_warning_msg(\n"
     ]
    },
    {
     "name": "stdout",
     "output_type": "stream",
     "text": [
      "Files already downloaded and verified\n"
     ]
    }
   ],
   "source": [
    "transform = transforms.Compose(\n",
    "    [transforms.ToTensor(),\n",
    "     transforms.Normalize((0.5, 0.5, 0.5), (0.5, 0.5, 0.5))])\n",
    "\n",
    "batch_size = 128\n",
    "\n",
    "trainset = torchvision.datasets.CIFAR10(root='./data', train=True,\n",
    "                                        download=True, transform=transform)\n",
    "trainloader = torch.utils.data.DataLoader(trainset, batch_size=batch_size,\n",
    "                                          shuffle=True, num_workers=4)\n",
    "\n",
    "testset = torchvision.datasets.CIFAR10(root='./data', train=False,\n",
    "                                       download=True, transform=transform)\n",
    "testloader = torch.utils.data.DataLoader(testset, batch_size=batch_size,\n",
    "                                         shuffle=False, num_workers=4)\n",
    "\n",
    "classes = ('plane', 'car', 'bird', 'cat',\n",
    "           'deer', 'dog', 'frog', 'horse', 'ship', 'truck')"
   ]
  },
  {
   "cell_type": "markdown",
   "metadata": {
    "id": "_vPiZ9NW1eyE",
    "pycharm": {
     "name": "#%% md\n"
    }
   },
   "source": [
    "Let us show some of the training images, for fun.\n",
    "\n"
   ]
  },
  {
   "cell_type": "code",
   "execution_count": null,
   "metadata": {
    "colab": {
     "base_uri": "https://localhost:8080/",
     "height": 267
    },
    "id": "yCwWHc331eyE",
    "outputId": "2c60cba8-84f2-45fb-fbeb-d555bac7f420",
    "pycharm": {
     "name": "#%%\n"
    }
   },
   "outputs": [
    {
     "name": "stderr",
     "output_type": "stream",
     "text": [
      "/usr/local/lib/python3.9/dist-packages/torch/utils/data/dataloader.py:561: UserWarning: This DataLoader will create 4 worker processes in total. Our suggested max number of worker in current system is 2, which is smaller than what this DataLoader is going to create. Please be aware that excessive worker creation might get DataLoader running slow or even freeze, lower the worker number to avoid potential slowness/freeze if necessary.\n",
      "  warnings.warn(_create_warning_msg(\n"
     ]
    },
    {
     "data": {
      "image/png": "[encoded data removed]",
      "text/plain": [
       "<Figure size 640x480 with 1 Axes>"
      ]
     },
     "metadata": {},
     "output_type": "display_data"
    },
    {
     "name": "stdout",
     "output_type": "stream",
     "text": [
      "ship  cat   horse truck\n"
     ]
    }
   ],
   "source": [
    "import matplotlib.pyplot as plt\n",
    "import numpy as np\n",
    "\n",
    "# functions to show an image\n",
    "\n",
    "\n",
    "def imshow(img):\n",
    "    img = img / 2 + 0.5     # unnormalize\n",
    "    npimg = img.numpy()\n",
    "    plt.imshow(np.transpose(npimg, (1, 2, 0)))\n",
    "    plt.show()\n",
    "\n",
    "\n",
    "# get some random training images\n",
    "dataiter = iter(trainloader)\n",
    "images, labels = next(dataiter)\n",
    "\n",
    "# show images\n",
    "imshow(torchvision.utils.make_grid(images[:4]))\n",
    "# print labels\n",
    "print(' '.join(f'{classes[labels[j]]:5s}' for j in range(4)))"
   ]
  },
  {
   "cell_type": "markdown",
   "metadata": {
    "id": "LbPnPmIC1eyE",
    "pycharm": {
     "name": "#%% md\n"
    }
   },
   "source": [
    "### 2. Define a Neural Network\n",
    "Here, we define a simple neural network with 2 hidden layers:\n",
    "\n"
   ]
  },
  {
   "cell_type": "code",
   "execution_count": null,
   "metadata": {
    "id": "6SUlBp_K1eyF",
    "pycharm": {
     "name": "#%%\n"
    }
   },
   "outputs": [],
   "source": [
    "import torch.nn as nn\n",
    "import torch.nn.functional as F\n",
    "\n",
    "\n",
    "class Net(nn.Module):\n",
    "    def __init__(self):\n",
    "        super().__init__()\n",
    "        self.fc1 = nn.Linear(3*32*32, 768)\n",
    "        self.fc2 = nn.Linear(768, 10)\n",
    "        \n",
    "    def forward(self, x):\n",
    "        x = x.flatten(1)\n",
    "        x = self.fc1(x)\n",
    "        x = F.relu(x)\n",
    "        x = self.fc2(x)\n",
    "        return x\n",
    "\n",
    "net = Net().cuda()  # put the neural network to GPU"
   ]
  },
  {
   "cell_type": "markdown",
   "metadata": {
    "id": "ZIxm3TlP1eyF",
    "pycharm": {
     "name": "#%% md\n"
    }
   },
   "source": [
    "### 3. Define a Loss function and optimizer\n",
    "Let's use a Classification Cross-Entropy loss.\n",
    "For optimizer, we adopt a highly effective one called Adam. \n",
    "\n",
    "Tips: If you are not sure which optimizer to use, try Adam first!"
   ]
  },
  {
   "cell_type": "code",
   "execution_count": null,
   "metadata": {
    "id": "P0lbMvoN1eyF",
    "pycharm": {
     "name": "#%%\n"
    }
   },
   "outputs": [],
   "source": [
    "import torch.optim as optim\n",
    "\n",
    "criterion = nn.CrossEntropyLoss()\n",
    "optimizer = optim.Adam(net.parameters(), lr=0.001)"
   ]
  },
  {
   "cell_type": "markdown",
   "metadata": {
    "id": "oiyR-gC01eyF",
    "pycharm": {
     "name": "#%% md\n"
    }
   },
   "source": [
    "### 4. Train the network\n",
    "\n",
    "This is when things start to get interesting.\n",
    "We simply have to loop over our data iterator, and feed the inputs to the\n",
    "network and optimize.\n",
    "\n"
   ]
  },
  {
   "cell_type": "code",
   "execution_count": null,
   "metadata": {
    "colab": {
     "base_uri": "https://localhost:8080/"
    },
    "id": "6uHRF87O1eyF",
    "outputId": "7678aa34-3d28-4983-9a5c-e337b79b73b4",
    "pycharm": {
     "name": "#%%\n"
    }
   },
   "outputs": [
    {
     "name": "stdout",
     "output_type": "stream",
     "text": [
      "[1,    20] loss: 2.037\n",
      "[1,    40] loss: 1.822\n",
      "[1,    60] loss: 1.740\n",
      "[1,    80] loss: 1.777\n",
      "[1,   100] loss: 1.682\n",
      "[1,   120] loss: 1.720\n",
      "[1,   140] loss: 1.618\n",
      "[1,   160] loss: 1.586\n",
      "[1,   180] loss: 1.649\n",
      "[1,   200] loss: 1.660\n",
      "[1,   220] loss: 1.610\n",
      "[1,   240] loss: 1.597\n",
      "[1,   260] loss: 1.525\n",
      "[1,   280] loss: 1.569\n",
      "[1,   300] loss: 1.602\n",
      "[1,   320] loss: 1.543\n",
      "[1,   340] loss: 1.580\n",
      "[1,   360] loss: 1.502\n",
      "[1,   380] loss: 1.554\n",
      "[2,    20] loss: 1.441\n",
      "[2,    40] loss: 1.451\n",
      "[2,    60] loss: 1.473\n",
      "[2,    80] loss: 1.457\n",
      "[2,   100] loss: 1.486\n",
      "[2,   120] loss: 1.500\n",
      "[2,   140] loss: 1.477\n",
      "[2,   160] loss: 1.495\n",
      "[2,   180] loss: 1.435\n",
      "[2,   200] loss: 1.448\n",
      "[2,   220] loss: 1.434\n",
      "[2,   240] loss: 1.459\n",
      "[2,   260] loss: 1.439\n",
      "[2,   280] loss: 1.439\n",
      "[2,   300] loss: 1.432\n",
      "[2,   320] loss: 1.430\n",
      "[2,   340] loss: 1.434\n",
      "[2,   360] loss: 1.442\n",
      "[2,   380] loss: 1.464\n"
     ]
    }
   ],
   "source": [
    "for epoch in range(2):  # loop over the dataset multiple times\n",
    "\n",
    "    running_loss = 0.0\n",
    "    for i, data in enumerate(trainloader, 0):\n",
    "\n",
    "        # get the inputs; data is a list of [inputs, labels]\n",
    "        inputs, labels = data[0].cuda(), data[1].cuda()  # Note that we should also put data and label to GPU to accelerate training\n",
    "\n",
    "        # zero the parameter gradients\n",
    "        optimizer.zero_grad()\n",
    "\n",
    "        # forward + backward + optimize\n",
    "        outputs = net(inputs)\n",
    "        loss = criterion(outputs, labels)\n",
    "        loss.backward()\n",
    "        optimizer.step()\n",
    "\n",
    "        # print statistics\n",
    "        running_loss += loss.item()\n",
    "        if i % 20 == 19:    # print every 20 mini-batches\n",
    "            print(f'[{epoch + 1}, {i + 1:5d}] loss: {running_loss / 20:.3f}')\n",
    "            running_loss = 0.0"
   ]
  },
  {
   "cell_type": "markdown",
   "metadata": {
    "id": "3koUhJxY1eyF",
    "pycharm": {
     "name": "#%% md\n"
    }
   },
   "source": [
    "Let's quickly save our trained model:\n",
    "\n"
   ]
  },
  {
   "cell_type": "code",
   "execution_count": null,
   "metadata": {
    "id": "x2OGSqZB1eyF",
    "pycharm": {
     "name": "#%%\n"
    }
   },
   "outputs": [],
   "source": [
    "PATH = './cifar_net.pth'\n",
    "torch.save(net.state_dict(), PATH)"
   ]
  },
  {
   "cell_type": "markdown",
   "metadata": {
    "id": "5Almk2xs1eyF",
    "pycharm": {
     "name": "#%% md\n"
    }
   },
   "source": [
    "See [here](https://pytorch.org/docs/stable/notes/serialization.html)\n",
    "for more details on saving PyTorch models.\n",
    "\n",
    "### 5. Test the network on the test data\n",
    "\n",
    "We have trained the network for 2 passes over the training dataset.\n",
    "But we need to check if the network has learnt anything at all.\n",
    "\n",
    "We will check this by predicting the class label that the neural network\n",
    "outputs, and checking it against the ground-truth. If the prediction is\n",
    "correct, we add the sample to the list of correct predictions.\n",
    "\n",
    "Okay, first step. Let us display images from the test set to get familiar.\n",
    "\n"
   ]
  },
  {
   "cell_type": "code",
   "execution_count": null,
   "metadata": {
    "colab": {
     "base_uri": "https://localhost:8080/",
     "height": 211
    },
    "id": "Ybfbkz8n1eyF",
    "outputId": "40c7672d-6b90-4d8f-a4f2-01183ba2f473",
    "pycharm": {
     "name": "#%%\n"
    }
   },
   "outputs": [
    {
     "data": {
      "image/png": "[encoded data removed]",
      "text/plain": [
       "<Figure size 640x480 with 1 Axes>"
      ]
     },
     "metadata": {},
     "output_type": "display_data"
    },
    {
     "name": "stdout",
     "output_type": "stream",
     "text": [
      "GroundTruth:  cat   ship  ship  plane\n"
     ]
    }
   ],
   "source": [
    "dataiter = iter(testloader)\n",
    "images, labels = next(dataiter)\n",
    "\n",
    "# print images\n",
    "imshow(torchvision.utils.make_grid(images[:4]))\n",
    "print('GroundTruth: ', ' '.join(f'{classes[labels[j]]:5s}' for j in range(4)))"
   ]
  },
  {
   "cell_type": "markdown",
   "metadata": {
    "id": "hZBKiGVO1eyF",
    "pycharm": {
     "name": "#%% md\n"
    }
   },
   "source": [
    "Next, let's load back in our saved model (note: saving and re-loading the model\n",
    "wasn't necessary here, we only did it to illustrate how to do so):\n",
    "\n"
   ]
  },
  {
   "cell_type": "code",
   "execution_count": null,
   "metadata": {
    "colab": {
     "base_uri": "https://localhost:8080/"
    },
    "id": "SW9NR23s1eyG",
    "outputId": "d50e9046-43a8-44bd-a0d2-7c6d6e854e5e",
    "pycharm": {
     "name": "#%%\n"
    }
   },
   "outputs": [
    {
     "data": {
      "text/plain": [
       "<All keys matched successfully>"
      ]
     },
     "execution_count": 17,
     "metadata": {},
     "output_type": "execute_result"
    }
   ],
   "source": [
    "net = Net()\n",
    "net.load_state_dict(torch.load(PATH))"
   ]
  },
  {
   "cell_type": "markdown",
   "metadata": {
    "id": "SkgSw_gb1eyG",
    "pycharm": {
     "name": "#%% md\n"
    }
   },
   "source": [
    "Okay, now let us see what the neural network thinks these examples above are:\n",
    "\n"
   ]
  },
  {
   "cell_type": "code",
   "execution_count": null,
   "metadata": {
    "colab": {
     "base_uri": "https://localhost:8080/"
    },
    "id": "EHfZPPjS1eyG",
    "outputId": "01e6043c-8003-4f52-d633-361652398ca2",
    "pycharm": {
     "name": "#%%\n"
    }
   },
   "outputs": [
    {
     "name": "stdout",
     "output_type": "stream",
     "text": [
      "outputs.shape: torch.Size([128, 10])\n",
      "outputs:\n",
      " tensor([[ 0.0821,  0.8933,  1.1616,  ..., -4.5891,  1.7375, -2.1642],\n",
      "        [ 2.0355,  4.5919, -1.4821,  ..., -3.9441,  3.5322,  5.3908],\n",
      "        [ 4.2417,  4.0741, -1.5205,  ..., -1.9349,  4.4799,  3.7503],\n",
      "        ...,\n",
      "        [ 0.0176,  1.2519,  0.2961,  ..., -0.1408, -1.7792,  0.1353],\n",
      "        [ 0.9415, -0.0453, -0.1328,  ..., -0.3279,  1.3832,  1.4473],\n",
      "        [-2.0166, -0.8862,  0.6704,  ...,  1.5208, -0.9208,  1.0073]],\n",
      "       grad_fn=<AddmmBackward0>)\n"
     ]
    }
   ],
   "source": [
    "outputs = net(images)\n",
    "print(\"outputs.shape:\", outputs.shape)\n",
    "print(\"outputs:\\n\", outputs)"
   ]
  },
  {
   "cell_type": "markdown",
   "metadata": {
    "id": "KSmu0_aZ1eyG",
    "pycharm": {
     "name": "#%% md\n"
    }
   },
   "source": [
    "The outputs are energies for the 10 classes.\n",
    "The higher the energy for a class, the more the network\n",
    "thinks that the image is of the particular class.\n",
    "So, let's get the index of the highest energy:\n",
    "\n"
   ]
  },
  {
   "cell_type": "code",
   "execution_count": null,
   "metadata": {
    "colab": {
     "base_uri": "https://localhost:8080/"
    },
    "id": "M42xejT_1eyG",
    "outputId": "27591300-2c03-4998-f110-5cb293a70e3f",
    "pycharm": {
     "name": "#%%\n"
    }
   },
   "outputs": [
    {
     "name": "stdout",
     "output_type": "stream",
     "text": [
      "Predicted:  cat   truck ship  plane\n"
     ]
    }
   ],
   "source": [
    "_, predicted = torch.max(outputs, 1)\n",
    "\n",
    "print('Predicted: ', ' '.join(f'{classes[predicted[j]]:5s}'\n",
    "                              for j in range(4)))"
   ]
  },
  {
   "cell_type": "markdown",
   "metadata": {
    "id": "nFKvbb131eyG",
    "pycharm": {
     "name": "#%% md\n"
    }
   },
   "source": [
    "The results seem ok.\n",
    "\n",
    "Let us look at how the network performs on the whole dataset.\n",
    "\n"
   ]
  },
  {
   "cell_type": "code",
   "execution_count": null,
   "metadata": {
    "colab": {
     "base_uri": "https://localhost:8080/"
    },
    "id": "T-FUZ5TH1eyG",
    "outputId": "5074de8c-684d-4a18-8b6b-a1120723440c",
    "pycharm": {
     "name": "#%%\n"
    }
   },
   "outputs": [
    {
     "name": "stdout",
     "output_type": "stream",
     "text": [
      "Accuracy of the network on the 10000 test images: 48 %\n"
     ]
    }
   ],
   "source": [
    "correct = 0\n",
    "total = 0\n",
    "# since we're not training, we don't need to calculate the gradients for our outputs\n",
    "with torch.no_grad():\n",
    "    for data in testloader:\n",
    "        images, labels = data[0], data[1]\n",
    "        # calculate outputs by running images through the network\n",
    "        outputs = net(images)\n",
    "        # the class with the highest energy is what we choose as prediction\n",
    "        _, predicted = torch.max(outputs.data, 1)\n",
    "        total += labels.size(0)\n",
    "        correct += (predicted == labels).sum().item()\n",
    "\n",
    "print(f'Accuracy of the network on the 10000 test images: {100 * correct // total} %')"
   ]
  },
  {
   "cell_type": "markdown",
   "metadata": {
    "id": "HcQNK_Lr1eyG",
    "pycharm": {
     "name": "#%% md\n"
    }
   },
   "source": [
    "That looks **way better than chance**, which is 10% accuracy (randomly picking\n",
    "a class out of 10 classes).\n",
    "That means the network have already learnt something with this small period of training.\n",
    "\n",
    "Hmmm, what are the classes that performed well, and the classes that did\n",
    "not perform well:\n",
    "\n"
   ]
  },
  {
   "cell_type": "code",
   "execution_count": null,
   "metadata": {
    "colab": {
     "base_uri": "https://localhost:8080/"
    },
    "id": "5ldkDyz-1eyG",
    "outputId": "e333ddff-2e51-4bf7-c395-2fe26043a7fc",
    "pycharm": {
     "name": "#%%\n"
    }
   },
   "outputs": [
    {
     "name": "stdout",
     "output_type": "stream",
     "text": [
      "Accuracy for class: plane is 56.8 %\n",
      "Accuracy for class: car   is 49.0 %\n",
      "Accuracy for class: bird  is 20.8 %\n",
      "Accuracy for class: cat   is 20.6 %\n",
      "Accuracy for class: deer  is 36.5 %\n",
      "Accuracy for class: dog   is 44.5 %\n",
      "Accuracy for class: frog  is 64.2 %\n",
      "Accuracy for class: horse is 66.1 %\n",
      "Accuracy for class: ship  is 59.9 %\n",
      "Accuracy for class: truck is 68.7 %\n"
     ]
    }
   ],
   "source": [
    "# prepare to count predictions for each class\n",
    "correct_pred = {classname: 0 for classname in classes}\n",
    "total_pred = {classname: 0 for classname in classes}\n",
    "\n",
    "# again no gradients needed\n",
    "with torch.no_grad():\n",
    "    for data in testloader:\n",
    "        images, labels = data\n",
    "        outputs = net(images)\n",
    "        _, predictions = torch.max(outputs, 1)\n",
    "        # collect the correct predictions for each class\n",
    "        for label, prediction in zip(labels, predictions):\n",
    "            if label == prediction:\n",
    "                correct_pred[classes[label]] += 1\n",
    "            total_pred[classes[label]] += 1\n",
    "\n",
    "\n",
    "# print accuracy for each class\n",
    "for classname, correct_count in correct_pred.items():\n",
    "    accuracy = 100 * float(correct_count) / total_pred[classname]\n",
    "    print(f'Accuracy for class: {classname:5s} is {accuracy:.1f} %')"
   ]
  },
  {
   "cell_type": "markdown",
   "metadata": {
    "id": "xbQJsoy9gm0q"
   },
   "source": []
  }
 ],
 "metadata": {
  "accelerator": "GPU",
  "colab": {
   "include_colab_link": true,
   "provenance": [],
   "toc_visible": true
  },
  "gpuClass": "standard",
  "kernelspec": {
   "display_name": "Python 3 (ipykernel)",
   "language": "python",
   "name": "python3"
  },
  "language_info": {
   "codemirror_mode": {
    "name": "ipython",
    "version": 3
   },
   "file_extension": ".py",
   "mimetype": "text/x-python",
   "name": "python",
   "nbconvert_exporter": "python",
   "pygments_lexer": "ipython3",
   "version": "3.11.7"
  }
 },
 "nbformat": 4,
 "nbformat_minor": 4
}
